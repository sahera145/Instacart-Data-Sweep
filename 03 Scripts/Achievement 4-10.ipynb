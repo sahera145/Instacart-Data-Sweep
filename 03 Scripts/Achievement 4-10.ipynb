{
 "cells": [
  {
   "cell_type": "markdown",
   "id": "f185475d",
   "metadata": {},
   "source": [
    "# 4-10 Coding Etiquette and Excel Reporting"
   ]
  },
  {
   "cell_type": "markdown",
   "id": "033142cf",
   "metadata": {},
   "source": [
    "## Importing Libraries"
   ]
  },
  {
   "cell_type": "code",
   "execution_count": 1,
   "id": "b7a7a5a7",
   "metadata": {},
   "outputs": [],
   "source": [
    "# Import libraries\n",
    "import pandas as pd\n",
    "import numpy as np\n",
    "import os\n",
    "import seaborn as sns\n",
    "import scipy\n",
    "import matplotlib.pyplot as plt"
   ]
  },
  {
   "cell_type": "markdown",
   "id": "8848507a",
   "metadata": {},
   "source": [
    "## Importing Data Sets"
   ]
  },
  {
   "cell_type": "code",
   "execution_count": 2,
   "id": "9d07ae9c",
   "metadata": {},
   "outputs": [],
   "source": [
    "path=r'C:\\Users\\sasze\\Documents\\Careerfoundry Data Analytics\\Achievement 4'"
   ]
  },
  {
   "cell_type": "code",
   "execution_count": 3,
   "id": "93a7c6ce",
   "metadata": {},
   "outputs": [],
   "source": [
    "df = pd.read_pickle(os.path.join(path, '02 Data', 'Prepared Data', 'ords_prods_cust.pkl'))"
   ]
  },
  {
   "cell_type": "code",
   "execution_count": 4,
   "id": "4cfff536",
   "metadata": {},
   "outputs": [
    {
     "data": {
      "text/plain": [
       "(32641268, 29)"
      ]
     },
     "execution_count": 4,
     "metadata": {},
     "output_type": "execute_result"
    }
   ],
   "source": [
    "df.shape"
   ]
  },
  {
   "cell_type": "code",
   "execution_count": 5,
   "id": "34bf4236",
   "metadata": {},
   "outputs": [
    {
     "data": {
      "text/plain": [
       "order_id                     int64\n",
       "user_id                      int64\n",
       "order_number                 int64\n",
       "orders_day_of_week           int64\n",
       "order_hour_of_day            int64\n",
       "days_since_prior_order     float64\n",
       "first_order                   bool\n",
       "product_id                 float64\n",
       "product_name              category\n",
       "department_id              float64\n",
       "prices                     float64\n",
       "busiest day               category\n",
       "busiest days              category\n",
       "busiest_period_of_day     category\n",
       "max_order                    int16\n",
       "loyalty_flag                object\n",
       "spending                   float16\n",
       "spending_flag             category\n",
       "frequency                   uint16\n",
       "frequency_flag              object\n",
       "surname                     object\n",
       "gender                      object\n",
       "state                       object\n",
       "age                          int64\n",
       "date_joined                 object\n",
       "n_dependants                 int64\n",
       "fam_status                  object\n",
       "income                       int64\n",
       "_merge                    category\n",
       "dtype: object"
      ]
     },
     "execution_count": 5,
     "metadata": {},
     "output_type": "execute_result"
    }
   ],
   "source": [
    "df.dtypes"
   ]
  },
  {
   "cell_type": "code",
   "execution_count": 6,
   "id": "e5117dd0",
   "metadata": {},
   "outputs": [
    {
     "data": {
      "text/html": [
       "<div>\n",
       "<style scoped>\n",
       "    .dataframe tbody tr th:only-of-type {\n",
       "        vertical-align: middle;\n",
       "    }\n",
       "\n",
       "    .dataframe tbody tr th {\n",
       "        vertical-align: top;\n",
       "    }\n",
       "\n",
       "    .dataframe thead th {\n",
       "        text-align: right;\n",
       "    }\n",
       "</style>\n",
       "<table border=\"1\" class=\"dataframe\">\n",
       "  <thead>\n",
       "    <tr style=\"text-align: right;\">\n",
       "      <th></th>\n",
       "      <th>order_id</th>\n",
       "      <th>user_id</th>\n",
       "      <th>order_number</th>\n",
       "      <th>orders_day_of_week</th>\n",
       "      <th>order_hour_of_day</th>\n",
       "      <th>days_since_prior_order</th>\n",
       "      <th>first_order</th>\n",
       "      <th>product_id</th>\n",
       "      <th>product_name</th>\n",
       "      <th>department_id</th>\n",
       "      <th>...</th>\n",
       "      <th>frequency_flag</th>\n",
       "      <th>surname</th>\n",
       "      <th>gender</th>\n",
       "      <th>state</th>\n",
       "      <th>age</th>\n",
       "      <th>date_joined</th>\n",
       "      <th>n_dependants</th>\n",
       "      <th>fam_status</th>\n",
       "      <th>income</th>\n",
       "      <th>_merge</th>\n",
       "    </tr>\n",
       "  </thead>\n",
       "  <tbody>\n",
       "    <tr>\n",
       "      <th>0</th>\n",
       "      <td>2539329</td>\n",
       "      <td>1</td>\n",
       "      <td>1</td>\n",
       "      <td>2</td>\n",
       "      <td>8</td>\n",
       "      <td>NaN</td>\n",
       "      <td>True</td>\n",
       "      <td>196.0</td>\n",
       "      <td>Soda</td>\n",
       "      <td>7.0</td>\n",
       "      <td>...</td>\n",
       "      <td>Regular customer</td>\n",
       "      <td>Nguyen</td>\n",
       "      <td>Female</td>\n",
       "      <td>Alabama</td>\n",
       "      <td>31</td>\n",
       "      <td>2/17/2019</td>\n",
       "      <td>3</td>\n",
       "      <td>married</td>\n",
       "      <td>40423</td>\n",
       "      <td>both</td>\n",
       "    </tr>\n",
       "  </tbody>\n",
       "</table>\n",
       "<p>1 rows × 29 columns</p>\n",
       "</div>"
      ],
      "text/plain": [
       "   order_id  user_id  order_number  orders_day_of_week  order_hour_of_day  \\\n",
       "0   2539329        1             1                   2                  8   \n",
       "\n",
       "   days_since_prior_order  first_order  product_id product_name  \\\n",
       "0                     NaN         True       196.0         Soda   \n",
       "\n",
       "   department_id  ...    frequency_flag surname  gender    state  age  \\\n",
       "0            7.0  ...  Regular customer  Nguyen  Female  Alabama   31   \n",
       "\n",
       "  date_joined  n_dependants fam_status  income _merge  \n",
       "0   2/17/2019             3    married   40423   both  \n",
       "\n",
       "[1 rows x 29 columns]"
      ]
     },
     "execution_count": 6,
     "metadata": {},
     "output_type": "execute_result"
    }
   ],
   "source": [
    "df.head(1)"
   ]
  },
  {
   "cell_type": "markdown",
   "id": "af5f35ca",
   "metadata": {},
   "source": [
    "## Security Implications"
   ]
  },
  {
   "cell_type": "markdown",
   "id": "f7bf7a8a",
   "metadata": {},
   "source": [
    "Information like surname, age, number of dependants, family status, and income are all PII and should be treated with the proper security protocols."
   ]
  },
  {
   "cell_type": "markdown",
   "id": "c038c70f",
   "metadata": {},
   "source": [
    "## Comparing customer behavior in different geographic areas"
   ]
  },
  {
   "cell_type": "code",
   "execution_count": 7,
   "id": "3e9e14e6",
   "metadata": {},
   "outputs": [],
   "source": [
    "#Create Column that divides states by region\n",
    "region =[]\n",
    "\n",
    "for state in df['state']:\n",
    "    if (state == 'Wisconsin') or (state == 'Michigan') or (state == 'Illinois') or (state == 'Indiana') or (state == 'Ohio') or (state == 'North Dakota') or (state == 'South Dakota') or (state == 'Nebraska') or (state == 'Minnesota') or (state == 'Iowa') or (state == 'Missouri') or (state == 'Kansas'):\n",
    "        region.append('Midwest')\n",
    "    elif (state == 'Maine') or (state == 'New Hampshire') or (state == 'Vermont') or (state == 'Massachusetts') or (state == 'Rhode Island') or (state == 'Connecticut') or (state == 'New York') or (state == 'Pennsylvania') or (state =='New Jersey'):\n",
    "        region.append('Northeast')\n",
    "    elif (state == 'Deleware') or (state == 'Maryland') or (state == 'District of Columbia') or (state == 'Virginia') or (state == 'West Virginia') or (state == 'North Carolina') or (state == 'South Carolina') or (state == 'Georgia') or (state == 'Florida') or (state == 'Kentucky') or (state == 'Tennessee') or (state == 'Mississippi') or (state == 'Alabama') or (state == 'Oklahoma') or (state == 'Texas') or (state == 'Arkansas') or (state == 'Louisiana'):\n",
    "        region.append('South')\n",
    "    else:\n",
    "        region.append('West')"
   ]
  },
  {
   "cell_type": "code",
   "execution_count": 8,
   "id": "89d8285b",
   "metadata": {},
   "outputs": [],
   "source": [
    "#Create the region column\n",
    "df['region'] = region"
   ]
  },
  {
   "cell_type": "code",
   "execution_count": 9,
   "id": "613acac9",
   "metadata": {},
   "outputs": [
    {
     "data": {
      "text/plain": [
       "South        10229198\n",
       "West          8994703\n",
       "Midwest       7652535\n",
       "Northeast     5764832\n",
       "Name: region, dtype: int64"
      ]
     },
     "execution_count": 9,
     "metadata": {},
     "output_type": "execute_result"
    }
   ],
   "source": [
    "df['region'].value_counts()"
   ]
  },
  {
   "cell_type": "code",
   "execution_count": 10,
   "id": "5cdb6a1e",
   "metadata": {},
   "outputs": [
    {
     "data": {
      "text/plain": [
       "32641268"
      ]
     },
     "execution_count": 10,
     "metadata": {},
     "output_type": "execute_result"
    }
   ],
   "source": [
    "#Check to make sure regions match with total number\n",
    "len(df['state'])"
   ]
  },
  {
   "cell_type": "code",
   "execution_count": 11,
   "id": "59c9d21e",
   "metadata": {},
   "outputs": [
    {
     "data": {
      "text/plain": [
       "32641268"
      ]
     },
     "execution_count": 11,
     "metadata": {},
     "output_type": "execute_result"
    }
   ],
   "source": [
    "10229198+8994703+7652535+5764832"
   ]
  },
  {
   "cell_type": "code",
   "execution_count": 13,
   "id": "a1b854cc",
   "metadata": {},
   "outputs": [],
   "source": [
    "#change dtype of region to category\n",
    "df['region'] = df['region'].astype('category')"
   ]
  },
  {
   "cell_type": "code",
   "execution_count": 14,
   "id": "5e35620a",
   "metadata": {},
   "outputs": [],
   "source": [
    "#Create crosstab of spending habits between the different U.S. regions\n",
    "crosstab = pd.crosstab(df['region'], df['spending_flag'], dropna = False)"
   ]
  },
  {
   "cell_type": "code",
   "execution_count": 15,
   "id": "3d97d590",
   "metadata": {},
   "outputs": [
    {
     "data": {
      "text/html": [
       "<div>\n",
       "<style scoped>\n",
       "    .dataframe tbody tr th:only-of-type {\n",
       "        vertical-align: middle;\n",
       "    }\n",
       "\n",
       "    .dataframe tbody tr th {\n",
       "        vertical-align: top;\n",
       "    }\n",
       "\n",
       "    .dataframe thead th {\n",
       "        text-align: right;\n",
       "    }\n",
       "</style>\n",
       "<table border=\"1\" class=\"dataframe\">\n",
       "  <thead>\n",
       "    <tr style=\"text-align: right;\">\n",
       "      <th>spending_flag</th>\n",
       "      <th>High Spender</th>\n",
       "      <th>Low Spender</th>\n",
       "    </tr>\n",
       "    <tr>\n",
       "      <th>region</th>\n",
       "      <th></th>\n",
       "      <th></th>\n",
       "    </tr>\n",
       "  </thead>\n",
       "  <tbody>\n",
       "    <tr>\n",
       "      <th>Midwest</th>\n",
       "      <td>157347</td>\n",
       "      <td>7495188</td>\n",
       "    </tr>\n",
       "    <tr>\n",
       "      <th>Northeast</th>\n",
       "      <td>109140</td>\n",
       "      <td>5655692</td>\n",
       "    </tr>\n",
       "    <tr>\n",
       "      <th>South</th>\n",
       "      <td>194955</td>\n",
       "      <td>10034243</td>\n",
       "    </tr>\n",
       "    <tr>\n",
       "      <th>West</th>\n",
       "      <td>178558</td>\n",
       "      <td>8816145</td>\n",
       "    </tr>\n",
       "  </tbody>\n",
       "</table>\n",
       "</div>"
      ],
      "text/plain": [
       "spending_flag  High Spender  Low Spender\n",
       "region                                  \n",
       "Midwest              157347      7495188\n",
       "Northeast            109140      5655692\n",
       "South                194955     10034243\n",
       "West                 178558      8816145"
      ]
     },
     "execution_count": 15,
     "metadata": {},
     "output_type": "execute_result"
    }
   ],
   "source": [
    "crosstab"
   ]
  },
  {
   "cell_type": "code",
   "execution_count": 16,
   "id": "1a15eb58",
   "metadata": {},
   "outputs": [
    {
     "data": {
      "text/plain": [
       "7652535"
      ]
     },
     "execution_count": 16,
     "metadata": {},
     "output_type": "execute_result"
    }
   ],
   "source": [
    "#Check high spending percentage in the different regions\n",
    "7495188+157347"
   ]
  },
  {
   "cell_type": "code",
   "execution_count": 17,
   "id": "db2eef92",
   "metadata": {},
   "outputs": [],
   "source": [
    "Midwest=(157347/7652535)*100"
   ]
  },
  {
   "cell_type": "code",
   "execution_count": 18,
   "id": "d71f782b",
   "metadata": {},
   "outputs": [
    {
     "data": {
      "text/plain": [
       "2.05614218033632"
      ]
     },
     "execution_count": 18,
     "metadata": {},
     "output_type": "execute_result"
    }
   ],
   "source": [
    "Midwest"
   ]
  },
  {
   "cell_type": "code",
   "execution_count": 19,
   "id": "99831c86",
   "metadata": {},
   "outputs": [
    {
     "data": {
      "text/plain": [
       "5764832"
      ]
     },
     "execution_count": 19,
     "metadata": {},
     "output_type": "execute_result"
    }
   ],
   "source": [
    "5655692+109140"
   ]
  },
  {
   "cell_type": "code",
   "execution_count": 20,
   "id": "7132e688",
   "metadata": {},
   "outputs": [],
   "source": [
    "Northeast=(109140/5764832)*100"
   ]
  },
  {
   "cell_type": "code",
   "execution_count": 21,
   "id": "f95cde1c",
   "metadata": {},
   "outputs": [
    {
     "data": {
      "text/plain": [
       "1.893203479303473"
      ]
     },
     "execution_count": 21,
     "metadata": {},
     "output_type": "execute_result"
    }
   ],
   "source": [
    "Northeast"
   ]
  },
  {
   "cell_type": "code",
   "execution_count": 22,
   "id": "143c416c",
   "metadata": {},
   "outputs": [
    {
     "data": {
      "text/plain": [
       "10229198"
      ]
     },
     "execution_count": 22,
     "metadata": {},
     "output_type": "execute_result"
    }
   ],
   "source": [
    "10034243+194955"
   ]
  },
  {
   "cell_type": "code",
   "execution_count": 23,
   "id": "8f405b71",
   "metadata": {},
   "outputs": [],
   "source": [
    "South=(194955/10229198)*100"
   ]
  },
  {
   "cell_type": "code",
   "execution_count": 24,
   "id": "deeba72e",
   "metadata": {},
   "outputs": [
    {
     "data": {
      "text/plain": [
       "1.9058678891541645"
      ]
     },
     "execution_count": 24,
     "metadata": {},
     "output_type": "execute_result"
    }
   ],
   "source": [
    "South"
   ]
  },
  {
   "cell_type": "code",
   "execution_count": 25,
   "id": "535e5cd9",
   "metadata": {},
   "outputs": [
    {
     "data": {
      "text/plain": [
       "8994703"
      ]
     },
     "execution_count": 25,
     "metadata": {},
     "output_type": "execute_result"
    }
   ],
   "source": [
    "8816145+178558"
   ]
  },
  {
   "cell_type": "code",
   "execution_count": 26,
   "id": "9415f5b2",
   "metadata": {},
   "outputs": [],
   "source": [
    "West=(178558/8994703)*100"
   ]
  },
  {
   "cell_type": "code",
   "execution_count": 27,
   "id": "ead55e1e",
   "metadata": {},
   "outputs": [
    {
     "data": {
      "text/plain": [
       "1.985146146570932"
      ]
     },
     "execution_count": 27,
     "metadata": {},
     "output_type": "execute_result"
    }
   ],
   "source": [
    "West"
   ]
  },
  {
   "cell_type": "markdown",
   "id": "589df5a6",
   "metadata": {},
   "source": [
    "All four regions have similar spending rates with the Midwest having the highest at 2.1% and the Northeast having the least at 1.9%."
   ]
  },
  {
   "cell_type": "markdown",
   "id": "91216a5a",
   "metadata": {},
   "source": [
    "## Create an exclusion flag for low-activity customers"
   ]
  },
  {
   "cell_type": "code",
   "execution_count": 28,
   "id": "0c459b65",
   "metadata": {},
   "outputs": [],
   "source": [
    "#Creating a dataframe excluding customers with less than 5 orders\n",
    "df_high = df[df['max_order'] >=5]"
   ]
  },
  {
   "cell_type": "code",
   "execution_count": 29,
   "id": "3ead8793",
   "metadata": {},
   "outputs": [
    {
     "data": {
      "text/html": [
       "<div>\n",
       "<style scoped>\n",
       "    .dataframe tbody tr th:only-of-type {\n",
       "        vertical-align: middle;\n",
       "    }\n",
       "\n",
       "    .dataframe tbody tr th {\n",
       "        vertical-align: top;\n",
       "    }\n",
       "\n",
       "    .dataframe thead th {\n",
       "        text-align: right;\n",
       "    }\n",
       "</style>\n",
       "<table border=\"1\" class=\"dataframe\">\n",
       "  <thead>\n",
       "    <tr style=\"text-align: right;\">\n",
       "      <th></th>\n",
       "      <th>order_id</th>\n",
       "      <th>user_id</th>\n",
       "      <th>order_number</th>\n",
       "      <th>orders_day_of_week</th>\n",
       "      <th>order_hour_of_day</th>\n",
       "      <th>days_since_prior_order</th>\n",
       "      <th>first_order</th>\n",
       "      <th>product_id</th>\n",
       "      <th>product_name</th>\n",
       "      <th>department_id</th>\n",
       "      <th>...</th>\n",
       "      <th>surname</th>\n",
       "      <th>gender</th>\n",
       "      <th>state</th>\n",
       "      <th>age</th>\n",
       "      <th>date_joined</th>\n",
       "      <th>n_dependants</th>\n",
       "      <th>fam_status</th>\n",
       "      <th>income</th>\n",
       "      <th>_merge</th>\n",
       "      <th>region</th>\n",
       "    </tr>\n",
       "  </thead>\n",
       "  <tbody>\n",
       "    <tr>\n",
       "      <th>0</th>\n",
       "      <td>2539329</td>\n",
       "      <td>1</td>\n",
       "      <td>1</td>\n",
       "      <td>2</td>\n",
       "      <td>8</td>\n",
       "      <td>NaN</td>\n",
       "      <td>True</td>\n",
       "      <td>196.0</td>\n",
       "      <td>Soda</td>\n",
       "      <td>7.0</td>\n",
       "      <td>...</td>\n",
       "      <td>Nguyen</td>\n",
       "      <td>Female</td>\n",
       "      <td>Alabama</td>\n",
       "      <td>31</td>\n",
       "      <td>2/17/2019</td>\n",
       "      <td>3</td>\n",
       "      <td>married</td>\n",
       "      <td>40423</td>\n",
       "      <td>both</td>\n",
       "      <td>South</td>\n",
       "    </tr>\n",
       "    <tr>\n",
       "      <th>1</th>\n",
       "      <td>2539329</td>\n",
       "      <td>1</td>\n",
       "      <td>1</td>\n",
       "      <td>2</td>\n",
       "      <td>8</td>\n",
       "      <td>NaN</td>\n",
       "      <td>True</td>\n",
       "      <td>14084.0</td>\n",
       "      <td>Organic Unsweetened Vanilla Almond Milk</td>\n",
       "      <td>16.0</td>\n",
       "      <td>...</td>\n",
       "      <td>Nguyen</td>\n",
       "      <td>Female</td>\n",
       "      <td>Alabama</td>\n",
       "      <td>31</td>\n",
       "      <td>2/17/2019</td>\n",
       "      <td>3</td>\n",
       "      <td>married</td>\n",
       "      <td>40423</td>\n",
       "      <td>both</td>\n",
       "      <td>South</td>\n",
       "    </tr>\n",
       "    <tr>\n",
       "      <th>2</th>\n",
       "      <td>2539329</td>\n",
       "      <td>1</td>\n",
       "      <td>1</td>\n",
       "      <td>2</td>\n",
       "      <td>8</td>\n",
       "      <td>NaN</td>\n",
       "      <td>True</td>\n",
       "      <td>12427.0</td>\n",
       "      <td>Original Beef Jerky</td>\n",
       "      <td>19.0</td>\n",
       "      <td>...</td>\n",
       "      <td>Nguyen</td>\n",
       "      <td>Female</td>\n",
       "      <td>Alabama</td>\n",
       "      <td>31</td>\n",
       "      <td>2/17/2019</td>\n",
       "      <td>3</td>\n",
       "      <td>married</td>\n",
       "      <td>40423</td>\n",
       "      <td>both</td>\n",
       "      <td>South</td>\n",
       "    </tr>\n",
       "    <tr>\n",
       "      <th>3</th>\n",
       "      <td>2539329</td>\n",
       "      <td>1</td>\n",
       "      <td>1</td>\n",
       "      <td>2</td>\n",
       "      <td>8</td>\n",
       "      <td>NaN</td>\n",
       "      <td>True</td>\n",
       "      <td>26088.0</td>\n",
       "      <td>Aged White Cheddar Popcorn</td>\n",
       "      <td>19.0</td>\n",
       "      <td>...</td>\n",
       "      <td>Nguyen</td>\n",
       "      <td>Female</td>\n",
       "      <td>Alabama</td>\n",
       "      <td>31</td>\n",
       "      <td>2/17/2019</td>\n",
       "      <td>3</td>\n",
       "      <td>married</td>\n",
       "      <td>40423</td>\n",
       "      <td>both</td>\n",
       "      <td>South</td>\n",
       "    </tr>\n",
       "    <tr>\n",
       "      <th>4</th>\n",
       "      <td>2539329</td>\n",
       "      <td>1</td>\n",
       "      <td>1</td>\n",
       "      <td>2</td>\n",
       "      <td>8</td>\n",
       "      <td>NaN</td>\n",
       "      <td>True</td>\n",
       "      <td>26405.0</td>\n",
       "      <td>XL Pick-A-Size Paper Towel Rolls</td>\n",
       "      <td>17.0</td>\n",
       "      <td>...</td>\n",
       "      <td>Nguyen</td>\n",
       "      <td>Female</td>\n",
       "      <td>Alabama</td>\n",
       "      <td>31</td>\n",
       "      <td>2/17/2019</td>\n",
       "      <td>3</td>\n",
       "      <td>married</td>\n",
       "      <td>40423</td>\n",
       "      <td>both</td>\n",
       "      <td>South</td>\n",
       "    </tr>\n",
       "  </tbody>\n",
       "</table>\n",
       "<p>5 rows × 30 columns</p>\n",
       "</div>"
      ],
      "text/plain": [
       "   order_id  user_id  order_number  orders_day_of_week  order_hour_of_day  \\\n",
       "0   2539329        1             1                   2                  8   \n",
       "1   2539329        1             1                   2                  8   \n",
       "2   2539329        1             1                   2                  8   \n",
       "3   2539329        1             1                   2                  8   \n",
       "4   2539329        1             1                   2                  8   \n",
       "\n",
       "   days_since_prior_order  first_order  product_id  \\\n",
       "0                     NaN         True       196.0   \n",
       "1                     NaN         True     14084.0   \n",
       "2                     NaN         True     12427.0   \n",
       "3                     NaN         True     26088.0   \n",
       "4                     NaN         True     26405.0   \n",
       "\n",
       "                              product_name  department_id  ...  surname  \\\n",
       "0                                     Soda            7.0  ...   Nguyen   \n",
       "1  Organic Unsweetened Vanilla Almond Milk           16.0  ...   Nguyen   \n",
       "2                      Original Beef Jerky           19.0  ...   Nguyen   \n",
       "3               Aged White Cheddar Popcorn           19.0  ...   Nguyen   \n",
       "4         XL Pick-A-Size Paper Towel Rolls           17.0  ...   Nguyen   \n",
       "\n",
       "   gender    state age  date_joined n_dependants  fam_status income  _merge  \\\n",
       "0  Female  Alabama  31    2/17/2019            3     married  40423    both   \n",
       "1  Female  Alabama  31    2/17/2019            3     married  40423    both   \n",
       "2  Female  Alabama  31    2/17/2019            3     married  40423    both   \n",
       "3  Female  Alabama  31    2/17/2019            3     married  40423    both   \n",
       "4  Female  Alabama  31    2/17/2019            3     married  40423    both   \n",
       "\n",
       "  region  \n",
       "0  South  \n",
       "1  South  \n",
       "2  South  \n",
       "3  South  \n",
       "4  South  \n",
       "\n",
       "[5 rows x 30 columns]"
      ]
     },
     "execution_count": 29,
     "metadata": {},
     "output_type": "execute_result"
    }
   ],
   "source": [
    "df_high.head()"
   ]
  },
  {
   "cell_type": "code",
   "execution_count": 30,
   "id": "d1707b37",
   "metadata": {},
   "outputs": [
    {
     "data": {
      "text/plain": [
       "5"
      ]
     },
     "execution_count": 30,
     "metadata": {},
     "output_type": "execute_result"
    }
   ],
   "source": [
    "#Check to make sure new dataframe has no less than 5 orders\n",
    "df_high['max_order'].min()"
   ]
  },
  {
   "cell_type": "code",
   "execution_count": 31,
   "id": "757b3704",
   "metadata": {},
   "outputs": [],
   "source": [
    "# Creating a dataframe for customers with less than 5 orders\n",
    "df_low = df[df['max_order'] <5]"
   ]
  },
  {
   "cell_type": "code",
   "execution_count": 32,
   "id": "18ec03f1",
   "metadata": {},
   "outputs": [
    {
     "data": {
      "text/html": [
       "<div>\n",
       "<style scoped>\n",
       "    .dataframe tbody tr th:only-of-type {\n",
       "        vertical-align: middle;\n",
       "    }\n",
       "\n",
       "    .dataframe tbody tr th {\n",
       "        vertical-align: top;\n",
       "    }\n",
       "\n",
       "    .dataframe thead th {\n",
       "        text-align: right;\n",
       "    }\n",
       "</style>\n",
       "<table border=\"1\" class=\"dataframe\">\n",
       "  <thead>\n",
       "    <tr style=\"text-align: right;\">\n",
       "      <th></th>\n",
       "      <th>order_id</th>\n",
       "      <th>user_id</th>\n",
       "      <th>order_number</th>\n",
       "      <th>orders_day_of_week</th>\n",
       "      <th>order_hour_of_day</th>\n",
       "      <th>days_since_prior_order</th>\n",
       "      <th>first_order</th>\n",
       "      <th>product_id</th>\n",
       "      <th>product_name</th>\n",
       "      <th>department_id</th>\n",
       "      <th>...</th>\n",
       "      <th>surname</th>\n",
       "      <th>gender</th>\n",
       "      <th>state</th>\n",
       "      <th>age</th>\n",
       "      <th>date_joined</th>\n",
       "      <th>n_dependants</th>\n",
       "      <th>fam_status</th>\n",
       "      <th>income</th>\n",
       "      <th>_merge</th>\n",
       "      <th>region</th>\n",
       "    </tr>\n",
       "  </thead>\n",
       "  <tbody>\n",
       "    <tr>\n",
       "      <th>402</th>\n",
       "      <td>2086598</td>\n",
       "      <td>6</td>\n",
       "      <td>1</td>\n",
       "      <td>5</td>\n",
       "      <td>18</td>\n",
       "      <td>NaN</td>\n",
       "      <td>True</td>\n",
       "      <td>27521.0</td>\n",
       "      <td>Organic Lacinato (Dinosaur) Kale</td>\n",
       "      <td>4.0</td>\n",
       "      <td>...</td>\n",
       "      <td>Blevins</td>\n",
       "      <td>Female</td>\n",
       "      <td>Colorado</td>\n",
       "      <td>48</td>\n",
       "      <td>7/30/2018</td>\n",
       "      <td>1</td>\n",
       "      <td>married</td>\n",
       "      <td>116041</td>\n",
       "      <td>both</td>\n",
       "      <td>West</td>\n",
       "    </tr>\n",
       "    <tr>\n",
       "      <th>403</th>\n",
       "      <td>2086598</td>\n",
       "      <td>6</td>\n",
       "      <td>1</td>\n",
       "      <td>5</td>\n",
       "      <td>18</td>\n",
       "      <td>NaN</td>\n",
       "      <td>True</td>\n",
       "      <td>38293.0</td>\n",
       "      <td>Ground Turkey Breast</td>\n",
       "      <td>12.0</td>\n",
       "      <td>...</td>\n",
       "      <td>Blevins</td>\n",
       "      <td>Female</td>\n",
       "      <td>Colorado</td>\n",
       "      <td>48</td>\n",
       "      <td>7/30/2018</td>\n",
       "      <td>1</td>\n",
       "      <td>married</td>\n",
       "      <td>116041</td>\n",
       "      <td>both</td>\n",
       "      <td>West</td>\n",
       "    </tr>\n",
       "    <tr>\n",
       "      <th>404</th>\n",
       "      <td>2086598</td>\n",
       "      <td>6</td>\n",
       "      <td>1</td>\n",
       "      <td>5</td>\n",
       "      <td>18</td>\n",
       "      <td>NaN</td>\n",
       "      <td>True</td>\n",
       "      <td>21903.0</td>\n",
       "      <td>Organic Baby Spinach</td>\n",
       "      <td>4.0</td>\n",
       "      <td>...</td>\n",
       "      <td>Blevins</td>\n",
       "      <td>Female</td>\n",
       "      <td>Colorado</td>\n",
       "      <td>48</td>\n",
       "      <td>7/30/2018</td>\n",
       "      <td>1</td>\n",
       "      <td>married</td>\n",
       "      <td>116041</td>\n",
       "      <td>both</td>\n",
       "      <td>West</td>\n",
       "    </tr>\n",
       "    <tr>\n",
       "      <th>405</th>\n",
       "      <td>2086598</td>\n",
       "      <td>6</td>\n",
       "      <td>1</td>\n",
       "      <td>5</td>\n",
       "      <td>18</td>\n",
       "      <td>NaN</td>\n",
       "      <td>True</td>\n",
       "      <td>48679.0</td>\n",
       "      <td>Organic Garnet Sweet Potato (Yam)</td>\n",
       "      <td>4.0</td>\n",
       "      <td>...</td>\n",
       "      <td>Blevins</td>\n",
       "      <td>Female</td>\n",
       "      <td>Colorado</td>\n",
       "      <td>48</td>\n",
       "      <td>7/30/2018</td>\n",
       "      <td>1</td>\n",
       "      <td>married</td>\n",
       "      <td>116041</td>\n",
       "      <td>both</td>\n",
       "      <td>West</td>\n",
       "    </tr>\n",
       "    <tr>\n",
       "      <th>406</th>\n",
       "      <td>298250</td>\n",
       "      <td>6</td>\n",
       "      <td>2</td>\n",
       "      <td>4</td>\n",
       "      <td>16</td>\n",
       "      <td>6.0</td>\n",
       "      <td>False</td>\n",
       "      <td>38293.0</td>\n",
       "      <td>Ground Turkey Breast</td>\n",
       "      <td>12.0</td>\n",
       "      <td>...</td>\n",
       "      <td>Blevins</td>\n",
       "      <td>Female</td>\n",
       "      <td>Colorado</td>\n",
       "      <td>48</td>\n",
       "      <td>7/30/2018</td>\n",
       "      <td>1</td>\n",
       "      <td>married</td>\n",
       "      <td>116041</td>\n",
       "      <td>both</td>\n",
       "      <td>West</td>\n",
       "    </tr>\n",
       "  </tbody>\n",
       "</table>\n",
       "<p>5 rows × 30 columns</p>\n",
       "</div>"
      ],
      "text/plain": [
       "     order_id  user_id  order_number  orders_day_of_week  order_hour_of_day  \\\n",
       "402   2086598        6             1                   5                 18   \n",
       "403   2086598        6             1                   5                 18   \n",
       "404   2086598        6             1                   5                 18   \n",
       "405   2086598        6             1                   5                 18   \n",
       "406    298250        6             2                   4                 16   \n",
       "\n",
       "     days_since_prior_order  first_order  product_id  \\\n",
       "402                     NaN         True     27521.0   \n",
       "403                     NaN         True     38293.0   \n",
       "404                     NaN         True     21903.0   \n",
       "405                     NaN         True     48679.0   \n",
       "406                     6.0        False     38293.0   \n",
       "\n",
       "                          product_name  department_id  ...  surname  gender  \\\n",
       "402   Organic Lacinato (Dinosaur) Kale            4.0  ...  Blevins  Female   \n",
       "403               Ground Turkey Breast           12.0  ...  Blevins  Female   \n",
       "404               Organic Baby Spinach            4.0  ...  Blevins  Female   \n",
       "405  Organic Garnet Sweet Potato (Yam)            4.0  ...  Blevins  Female   \n",
       "406               Ground Turkey Breast           12.0  ...  Blevins  Female   \n",
       "\n",
       "        state age  date_joined n_dependants  fam_status  income  _merge region  \n",
       "402  Colorado  48    7/30/2018            1     married  116041    both   West  \n",
       "403  Colorado  48    7/30/2018            1     married  116041    both   West  \n",
       "404  Colorado  48    7/30/2018            1     married  116041    both   West  \n",
       "405  Colorado  48    7/30/2018            1     married  116041    both   West  \n",
       "406  Colorado  48    7/30/2018            1     married  116041    both   West  \n",
       "\n",
       "[5 rows x 30 columns]"
      ]
     },
     "execution_count": 32,
     "metadata": {},
     "output_type": "execute_result"
    }
   ],
   "source": [
    "df_low.head()"
   ]
  },
  {
   "cell_type": "code",
   "execution_count": 33,
   "id": "f65f2094",
   "metadata": {},
   "outputs": [
    {
     "data": {
      "text/plain": [
       "4"
      ]
     },
     "execution_count": 33,
     "metadata": {},
     "output_type": "execute_result"
    }
   ],
   "source": [
    "#Checking to make sure low dataframe has no more than 4 max orders\n",
    "df_low['max_order'].max()"
   ]
  },
  {
   "cell_type": "markdown",
   "id": "e8e707af",
   "metadata": {},
   "source": [
    "##  Create a profiling variable based on age, income, certain goods in the “department_id” column, and number of dependents"
   ]
  },
  {
   "cell_type": "code",
   "execution_count": 34,
   "id": "32a86c87",
   "metadata": {},
   "outputs": [
    {
     "data": {
      "text/plain": [
       "order_id                     int64\n",
       "user_id                      int64\n",
       "order_number                 int64\n",
       "orders_day_of_week           int64\n",
       "order_hour_of_day            int64\n",
       "days_since_prior_order     float64\n",
       "first_order                   bool\n",
       "product_id                 float64\n",
       "product_name              category\n",
       "department_id              float64\n",
       "prices                     float64\n",
       "busiest day               category\n",
       "busiest days              category\n",
       "busiest_period_of_day     category\n",
       "max_order                    int16\n",
       "loyalty_flag                object\n",
       "spending                   float16\n",
       "spending_flag             category\n",
       "frequency                   uint16\n",
       "frequency_flag              object\n",
       "surname                     object\n",
       "gender                      object\n",
       "state                       object\n",
       "age                          int64\n",
       "date_joined                 object\n",
       "n_dependants                 int64\n",
       "fam_status                  object\n",
       "income                       int64\n",
       "_merge                    category\n",
       "region                    category\n",
       "dtype: object"
      ]
     },
     "execution_count": 34,
     "metadata": {},
     "output_type": "execute_result"
    }
   ],
   "source": [
    "#List of all potential variables\n",
    "df_high.dtypes"
   ]
  },
  {
   "cell_type": "code",
   "execution_count": 35,
   "id": "a6d5882a",
   "metadata": {},
   "outputs": [
    {
     "data": {
      "text/plain": [
       "Low Spender     31306259\n",
       "High Spender      623720\n",
       "Name: spending_flag, dtype: int64"
      ]
     },
     "execution_count": 35,
     "metadata": {},
     "output_type": "execute_result"
    }
   ],
   "source": [
    "#Creating crosstabs to find correlations between different segments of population\n",
    "df_high['spending_flag'].value_counts()"
   ]
  },
  {
   "cell_type": "code",
   "execution_count": 36,
   "id": "cdf6e533",
   "metadata": {},
   "outputs": [],
   "source": [
    "crosstab_region_spending = pd.crosstab(df['age'], df['spending_flag'], dropna = False)"
   ]
  },
  {
   "cell_type": "code",
   "execution_count": 37,
   "id": "089e97e5",
   "metadata": {},
   "outputs": [
    {
     "data": {
      "text/html": [
       "<div>\n",
       "<style scoped>\n",
       "    .dataframe tbody tr th:only-of-type {\n",
       "        vertical-align: middle;\n",
       "    }\n",
       "\n",
       "    .dataframe tbody tr th {\n",
       "        vertical-align: top;\n",
       "    }\n",
       "\n",
       "    .dataframe thead th {\n",
       "        text-align: right;\n",
       "    }\n",
       "</style>\n",
       "<table border=\"1\" class=\"dataframe\">\n",
       "  <thead>\n",
       "    <tr style=\"text-align: right;\">\n",
       "      <th>spending_flag</th>\n",
       "      <th>High Spender</th>\n",
       "      <th>Low Spender</th>\n",
       "    </tr>\n",
       "    <tr>\n",
       "      <th>age</th>\n",
       "      <th></th>\n",
       "      <th></th>\n",
       "    </tr>\n",
       "  </thead>\n",
       "  <tbody>\n",
       "    <tr>\n",
       "      <th>18</th>\n",
       "      <td>9901</td>\n",
       "      <td>494184</td>\n",
       "    </tr>\n",
       "    <tr>\n",
       "      <th>19</th>\n",
       "      <td>7238</td>\n",
       "      <td>516298</td>\n",
       "    </tr>\n",
       "    <tr>\n",
       "      <th>20</th>\n",
       "      <td>10466</td>\n",
       "      <td>496092</td>\n",
       "    </tr>\n",
       "    <tr>\n",
       "      <th>21</th>\n",
       "      <td>10792</td>\n",
       "      <td>505425</td>\n",
       "    </tr>\n",
       "    <tr>\n",
       "      <th>22</th>\n",
       "      <td>9297</td>\n",
       "      <td>508327</td>\n",
       "    </tr>\n",
       "    <tr>\n",
       "      <th>...</th>\n",
       "      <td>...</td>\n",
       "      <td>...</td>\n",
       "    </tr>\n",
       "    <tr>\n",
       "      <th>77</th>\n",
       "      <td>11617</td>\n",
       "      <td>494291</td>\n",
       "    </tr>\n",
       "    <tr>\n",
       "      <th>78</th>\n",
       "      <td>12471</td>\n",
       "      <td>486470</td>\n",
       "    </tr>\n",
       "    <tr>\n",
       "      <th>79</th>\n",
       "      <td>7956</td>\n",
       "      <td>525583</td>\n",
       "    </tr>\n",
       "    <tr>\n",
       "      <th>80</th>\n",
       "      <td>10744</td>\n",
       "      <td>508110</td>\n",
       "    </tr>\n",
       "    <tr>\n",
       "      <th>81</th>\n",
       "      <td>11024</td>\n",
       "      <td>502044</td>\n",
       "    </tr>\n",
       "  </tbody>\n",
       "</table>\n",
       "<p>64 rows × 2 columns</p>\n",
       "</div>"
      ],
      "text/plain": [
       "spending_flag  High Spender  Low Spender\n",
       "age                                     \n",
       "18                     9901       494184\n",
       "19                     7238       516298\n",
       "20                    10466       496092\n",
       "21                    10792       505425\n",
       "22                     9297       508327\n",
       "..                      ...          ...\n",
       "77                    11617       494291\n",
       "78                    12471       486470\n",
       "79                     7956       525583\n",
       "80                    10744       508110\n",
       "81                    11024       502044\n",
       "\n",
       "[64 rows x 2 columns]"
      ]
     },
     "execution_count": 37,
     "metadata": {},
     "output_type": "execute_result"
    }
   ],
   "source": [
    "crosstab_region_spending"
   ]
  },
  {
   "cell_type": "code",
   "execution_count": 38,
   "id": "b091fef3",
   "metadata": {},
   "outputs": [
    {
     "name": "stderr",
     "output_type": "stream",
     "text": [
      "C:\\Users\\sasze\\anaconda3\\lib\\site-packages\\pandas\\core\\indexing.py:1599: SettingWithCopyWarning: \n",
      "A value is trying to be set on a copy of a slice from a DataFrame.\n",
      "Try using .loc[row_indexer,col_indexer] = value instead\n",
      "\n",
      "See the caveats in the documentation: https://pandas.pydata.org/pandas-docs/stable/user_guide/indexing.html#returning-a-view-versus-a-copy\n",
      "  self.obj[key] = infer_fill_value(value)\n",
      "C:\\Users\\sasze\\anaconda3\\lib\\site-packages\\pandas\\core\\indexing.py:1720: SettingWithCopyWarning: \n",
      "A value is trying to be set on a copy of a slice from a DataFrame.\n",
      "Try using .loc[row_indexer,col_indexer] = value instead\n",
      "\n",
      "See the caveats in the documentation: https://pandas.pydata.org/pandas-docs/stable/user_guide/indexing.html#returning-a-view-versus-a-copy\n",
      "  self._setitem_single_column(loc, value, pi)\n",
      "C:\\Users\\sasze\\anaconda3\\lib\\site-packages\\pandas\\core\\indexing.py:1720: SettingWithCopyWarning: \n",
      "A value is trying to be set on a copy of a slice from a DataFrame.\n",
      "Try using .loc[row_indexer,col_indexer] = value instead\n",
      "\n",
      "See the caveats in the documentation: https://pandas.pydata.org/pandas-docs/stable/user_guide/indexing.html#returning-a-view-versus-a-copy\n",
      "  self._setitem_single_column(loc, value, pi)\n",
      "C:\\Users\\sasze\\anaconda3\\lib\\site-packages\\pandas\\core\\indexing.py:1720: SettingWithCopyWarning: \n",
      "A value is trying to be set on a copy of a slice from a DataFrame.\n",
      "Try using .loc[row_indexer,col_indexer] = value instead\n",
      "\n",
      "See the caveats in the documentation: https://pandas.pydata.org/pandas-docs/stable/user_guide/indexing.html#returning-a-view-versus-a-copy\n",
      "  self._setitem_single_column(loc, value, pi)\n",
      "C:\\Users\\sasze\\anaconda3\\lib\\site-packages\\pandas\\core\\indexing.py:1720: SettingWithCopyWarning: \n",
      "A value is trying to be set on a copy of a slice from a DataFrame.\n",
      "Try using .loc[row_indexer,col_indexer] = value instead\n",
      "\n",
      "See the caveats in the documentation: https://pandas.pydata.org/pandas-docs/stable/user_guide/indexing.html#returning-a-view-versus-a-copy\n",
      "  self._setitem_single_column(loc, value, pi)\n",
      "C:\\Users\\sasze\\anaconda3\\lib\\site-packages\\pandas\\core\\indexing.py:1720: SettingWithCopyWarning: \n",
      "A value is trying to be set on a copy of a slice from a DataFrame.\n",
      "Try using .loc[row_indexer,col_indexer] = value instead\n",
      "\n",
      "See the caveats in the documentation: https://pandas.pydata.org/pandas-docs/stable/user_guide/indexing.html#returning-a-view-versus-a-copy\n",
      "  self._setitem_single_column(loc, value, pi)\n",
      "C:\\Users\\sasze\\anaconda3\\lib\\site-packages\\pandas\\core\\indexing.py:1720: SettingWithCopyWarning: \n",
      "A value is trying to be set on a copy of a slice from a DataFrame.\n",
      "Try using .loc[row_indexer,col_indexer] = value instead\n",
      "\n",
      "See the caveats in the documentation: https://pandas.pydata.org/pandas-docs/stable/user_guide/indexing.html#returning-a-view-versus-a-copy\n",
      "  self._setitem_single_column(loc, value, pi)\n",
      "C:\\Users\\sasze\\anaconda3\\lib\\site-packages\\pandas\\core\\indexing.py:1720: SettingWithCopyWarning: \n",
      "A value is trying to be set on a copy of a slice from a DataFrame.\n",
      "Try using .loc[row_indexer,col_indexer] = value instead\n",
      "\n",
      "See the caveats in the documentation: https://pandas.pydata.org/pandas-docs/stable/user_guide/indexing.html#returning-a-view-versus-a-copy\n",
      "  self._setitem_single_column(loc, value, pi)\n"
     ]
    }
   ],
   "source": [
    "#creating age groups based on Generations (Source: https://www.beresfordresearch.com/age-range-by-generation/)\n",
    "df_high.loc[df_high['age'] < 24, 'Generation'] = 'Gen_Z'\n",
    "df_high.loc[(df_high['age'] >= 25) & (df_high['age'] <= 40), 'Generation'] = 'Millennials'\n",
    "df_high.loc[(df_high['age'] >= 41) & (df_high['age'] <= 56), 'Generation'] = 'Gen_X'\n",
    "df_high.loc[(df_high['age'] >= 57) & (df_high['age'] <= 66), 'Generation'] = 'Boomers_II'\n",
    "df_high.loc[(df_high['age'] >= 67) & (df_high['age'] <= 75), 'Generation'] = 'Boomers_I'\n",
    "df_high.loc[(df_high['age'] >= 76) & (df_high['age'] <= 93), 'Generation'] = 'Post_War'\n",
    "df_high.loc[df_high['age'] >= 94, 'Generation'] = 'WW_II'"
   ]
  },
  {
   "cell_type": "code",
   "execution_count": 39,
   "id": "da33f0b3",
   "metadata": {},
   "outputs": [
    {
     "data": {
      "text/plain": [
       "Gen_X          8046389\n",
       "Millennials    7975166\n",
       "Boomers_II     4883081\n",
       "Boomers_I      4496271\n",
       "Gen_Z          3020721\n",
       "Post_War       3006504\n",
       "Name: Generation, dtype: int64"
      ]
     },
     "execution_count": 39,
     "metadata": {},
     "output_type": "execute_result"
    }
   ],
   "source": [
    "df_high['Generation'].value_counts()"
   ]
  },
  {
   "cell_type": "code",
   "execution_count": 40,
   "id": "824d4cc3",
   "metadata": {},
   "outputs": [
    {
     "data": {
      "text/plain": [
       "31929979"
      ]
     },
     "execution_count": 40,
     "metadata": {},
     "output_type": "execute_result"
    }
   ],
   "source": [
    "#Verifing proper attachment\n",
    "len(df_high['Generation'])"
   ]
  },
  {
   "cell_type": "code",
   "execution_count": 41,
   "id": "1fa3d9c0",
   "metadata": {},
   "outputs": [
    {
     "data": {
      "text/plain": [
       "31929979"
      ]
     },
     "execution_count": 41,
     "metadata": {},
     "output_type": "execute_result"
    }
   ],
   "source": [
    "len(df_high['age'])"
   ]
  },
  {
   "cell_type": "code",
   "execution_count": 42,
   "id": "62ccbdda",
   "metadata": {},
   "outputs": [],
   "source": [
    "#Create Crosstab between generations and spending flags\n",
    "crosstab_generation_spending = pd.crosstab(df_high['Generation'], df_high['spending_flag'], dropna = False)"
   ]
  },
  {
   "cell_type": "code",
   "execution_count": 43,
   "id": "e036b2e1",
   "metadata": {},
   "outputs": [
    {
     "data": {
      "text/html": [
       "<div>\n",
       "<style scoped>\n",
       "    .dataframe tbody tr th:only-of-type {\n",
       "        vertical-align: middle;\n",
       "    }\n",
       "\n",
       "    .dataframe tbody tr th {\n",
       "        vertical-align: top;\n",
       "    }\n",
       "\n",
       "    .dataframe thead th {\n",
       "        text-align: right;\n",
       "    }\n",
       "</style>\n",
       "<table border=\"1\" class=\"dataframe\">\n",
       "  <thead>\n",
       "    <tr style=\"text-align: right;\">\n",
       "      <th>spending_flag</th>\n",
       "      <th>High Spender</th>\n",
       "      <th>Low Spender</th>\n",
       "    </tr>\n",
       "    <tr>\n",
       "      <th>Generation</th>\n",
       "      <th></th>\n",
       "      <th></th>\n",
       "    </tr>\n",
       "  </thead>\n",
       "  <tbody>\n",
       "    <tr>\n",
       "      <th>Boomers_I</th>\n",
       "      <td>80735</td>\n",
       "      <td>4415536</td>\n",
       "    </tr>\n",
       "    <tr>\n",
       "      <th>Boomers_II</th>\n",
       "      <td>97616</td>\n",
       "      <td>4785465</td>\n",
       "    </tr>\n",
       "    <tr>\n",
       "      <th>Gen_X</th>\n",
       "      <td>165675</td>\n",
       "      <td>7880714</td>\n",
       "    </tr>\n",
       "    <tr>\n",
       "      <th>Gen_Z</th>\n",
       "      <td>54788</td>\n",
       "      <td>2965933</td>\n",
       "    </tr>\n",
       "    <tr>\n",
       "      <th>Millennials</th>\n",
       "      <td>148426</td>\n",
       "      <td>7826740</td>\n",
       "    </tr>\n",
       "    <tr>\n",
       "      <th>Post_War</th>\n",
       "      <td>62363</td>\n",
       "      <td>2944141</td>\n",
       "    </tr>\n",
       "  </tbody>\n",
       "</table>\n",
       "</div>"
      ],
      "text/plain": [
       "spending_flag  High Spender  Low Spender\n",
       "Generation                              \n",
       "Boomers_I             80735      4415536\n",
       "Boomers_II            97616      4785465\n",
       "Gen_X                165675      7880714\n",
       "Gen_Z                 54788      2965933\n",
       "Millennials          148426      7826740\n",
       "Post_War              62363      2944141"
      ]
     },
     "execution_count": 43,
     "metadata": {},
     "output_type": "execute_result"
    }
   ],
   "source": [
    "crosstab_generation_spending"
   ]
  },
  {
   "cell_type": "code",
   "execution_count": 45,
   "id": "2b377620",
   "metadata": {},
   "outputs": [],
   "source": [
    "#Export crosstab to Excel\n",
    "crosstab_generation_spending.to_clipboard()"
   ]
  },
  {
   "cell_type": "code",
   "execution_count": 46,
   "id": "0a1e1fb1",
   "metadata": {},
   "outputs": [
    {
     "data": {
      "text/plain": [
       "married                             22421852\n",
       "single                               5248979\n",
       "divorced/widowed                     2730548\n",
       "living with parents and siblings     1528600\n",
       "Name: fam_status, dtype: int64"
      ]
     },
     "execution_count": 46,
     "metadata": {},
     "output_type": "execute_result"
    }
   ],
   "source": [
    "#Exploring correlation with regards to family status\n",
    "df_high['fam_status'].value_counts()"
   ]
  },
  {
   "cell_type": "code",
   "execution_count": 47,
   "id": "bc8dddbd",
   "metadata": {},
   "outputs": [],
   "source": [
    "crosstab_fam_generation = pd.crosstab(df_high['Generation'], df_high['fam_status'], dropna = False)"
   ]
  },
  {
   "cell_type": "code",
   "execution_count": 48,
   "id": "8f667e39",
   "metadata": {},
   "outputs": [
    {
     "data": {
      "text/html": [
       "<div>\n",
       "<style scoped>\n",
       "    .dataframe tbody tr th:only-of-type {\n",
       "        vertical-align: middle;\n",
       "    }\n",
       "\n",
       "    .dataframe tbody tr th {\n",
       "        vertical-align: top;\n",
       "    }\n",
       "\n",
       "    .dataframe thead th {\n",
       "        text-align: right;\n",
       "    }\n",
       "</style>\n",
       "<table border=\"1\" class=\"dataframe\">\n",
       "  <thead>\n",
       "    <tr style=\"text-align: right;\">\n",
       "      <th>fam_status</th>\n",
       "      <th>divorced/widowed</th>\n",
       "      <th>living with parents and siblings</th>\n",
       "      <th>married</th>\n",
       "      <th>single</th>\n",
       "    </tr>\n",
       "    <tr>\n",
       "      <th>Generation</th>\n",
       "      <th></th>\n",
       "      <th></th>\n",
       "      <th></th>\n",
       "      <th></th>\n",
       "    </tr>\n",
       "  </thead>\n",
       "  <tbody>\n",
       "    <tr>\n",
       "      <th>Boomers_I</th>\n",
       "      <td>1109485</td>\n",
       "      <td>0</td>\n",
       "      <td>3386786</td>\n",
       "      <td>0</td>\n",
       "    </tr>\n",
       "    <tr>\n",
       "      <th>Boomers_II</th>\n",
       "      <td>873372</td>\n",
       "      <td>0</td>\n",
       "      <td>3613786</td>\n",
       "      <td>395923</td>\n",
       "    </tr>\n",
       "    <tr>\n",
       "      <th>Gen_X</th>\n",
       "      <td>0</td>\n",
       "      <td>0</td>\n",
       "      <td>6058337</td>\n",
       "      <td>1988052</td>\n",
       "    </tr>\n",
       "    <tr>\n",
       "      <th>Gen_Z</th>\n",
       "      <td>0</td>\n",
       "      <td>1528600</td>\n",
       "      <td>756957</td>\n",
       "      <td>735164</td>\n",
       "    </tr>\n",
       "    <tr>\n",
       "      <th>Millennials</th>\n",
       "      <td>0</td>\n",
       "      <td>0</td>\n",
       "      <td>5961077</td>\n",
       "      <td>2014089</td>\n",
       "    </tr>\n",
       "    <tr>\n",
       "      <th>Post_War</th>\n",
       "      <td>747691</td>\n",
       "      <td>0</td>\n",
       "      <td>2258813</td>\n",
       "      <td>0</td>\n",
       "    </tr>\n",
       "  </tbody>\n",
       "</table>\n",
       "</div>"
      ],
      "text/plain": [
       "fam_status   divorced/widowed  living with parents and siblings  married  \\\n",
       "Generation                                                                 \n",
       "Boomers_I             1109485                                 0  3386786   \n",
       "Boomers_II             873372                                 0  3613786   \n",
       "Gen_X                       0                                 0  6058337   \n",
       "Gen_Z                       0                           1528600   756957   \n",
       "Millennials                 0                                 0  5961077   \n",
       "Post_War               747691                                 0  2258813   \n",
       "\n",
       "fam_status    single  \n",
       "Generation            \n",
       "Boomers_I          0  \n",
       "Boomers_II    395923  \n",
       "Gen_X        1988052  \n",
       "Gen_Z         735164  \n",
       "Millennials  2014089  \n",
       "Post_War           0  "
      ]
     },
     "execution_count": 48,
     "metadata": {},
     "output_type": "execute_result"
    }
   ],
   "source": [
    "crosstab_fam_generation"
   ]
  },
  {
   "cell_type": "code",
   "execution_count": 49,
   "id": "94b98907",
   "metadata": {},
   "outputs": [],
   "source": [
    "crosstab_fam_generation.to_clipboard()"
   ]
  },
  {
   "cell_type": "code",
   "execution_count": 50,
   "id": "3e7c2643",
   "metadata": {},
   "outputs": [],
   "source": [
    "#Exploring correlation between generations and deparment ID \n",
    "crosstab_gen_dept = pd.crosstab(df_high['Generation'], df_high['department_id'], dropna = False)"
   ]
  },
  {
   "cell_type": "code",
   "execution_count": 51,
   "id": "44f43029",
   "metadata": {},
   "outputs": [
    {
     "data": {
      "text/html": [
       "<div>\n",
       "<style scoped>\n",
       "    .dataframe tbody tr th:only-of-type {\n",
       "        vertical-align: middle;\n",
       "    }\n",
       "\n",
       "    .dataframe tbody tr th {\n",
       "        vertical-align: top;\n",
       "    }\n",
       "\n",
       "    .dataframe thead th {\n",
       "        text-align: right;\n",
       "    }\n",
       "</style>\n",
       "<table border=\"1\" class=\"dataframe\">\n",
       "  <thead>\n",
       "    <tr style=\"text-align: right;\">\n",
       "      <th>department_id</th>\n",
       "      <th>1.0</th>\n",
       "      <th>2.0</th>\n",
       "      <th>3.0</th>\n",
       "      <th>4.0</th>\n",
       "      <th>5.0</th>\n",
       "      <th>6.0</th>\n",
       "      <th>7.0</th>\n",
       "      <th>8.0</th>\n",
       "      <th>9.0</th>\n",
       "      <th>10.0</th>\n",
       "      <th>...</th>\n",
       "      <th>12.0</th>\n",
       "      <th>13.0</th>\n",
       "      <th>14.0</th>\n",
       "      <th>15.0</th>\n",
       "      <th>16.0</th>\n",
       "      <th>17.0</th>\n",
       "      <th>18.0</th>\n",
       "      <th>19.0</th>\n",
       "      <th>20.0</th>\n",
       "      <th>21.0</th>\n",
       "    </tr>\n",
       "    <tr>\n",
       "      <th>Generation</th>\n",
       "      <th></th>\n",
       "      <th></th>\n",
       "      <th></th>\n",
       "      <th></th>\n",
       "      <th></th>\n",
       "      <th></th>\n",
       "      <th></th>\n",
       "      <th></th>\n",
       "      <th></th>\n",
       "      <th></th>\n",
       "      <th></th>\n",
       "      <th></th>\n",
       "      <th></th>\n",
       "      <th></th>\n",
       "      <th></th>\n",
       "      <th></th>\n",
       "      <th></th>\n",
       "      <th></th>\n",
       "      <th></th>\n",
       "      <th></th>\n",
       "      <th></th>\n",
       "    </tr>\n",
       "  </thead>\n",
       "  <tbody>\n",
       "    <tr>\n",
       "      <th>Boomers_I</th>\n",
       "      <td>307309</td>\n",
       "      <td>4812</td>\n",
       "      <td>159608</td>\n",
       "      <td>1312184</td>\n",
       "      <td>20286</td>\n",
       "      <td>36077</td>\n",
       "      <td>373818</td>\n",
       "      <td>13239</td>\n",
       "      <td>119197</td>\n",
       "      <td>4736</td>\n",
       "      <td>...</td>\n",
       "      <td>98530</td>\n",
       "      <td>258463</td>\n",
       "      <td>94829</td>\n",
       "      <td>146189</td>\n",
       "      <td>749183</td>\n",
       "      <td>102742</td>\n",
       "      <td>57365</td>\n",
       "      <td>393455</td>\n",
       "      <td>144615</td>\n",
       "      <td>9298</td>\n",
       "    </tr>\n",
       "    <tr>\n",
       "      <th>Boomers_II</th>\n",
       "      <td>334848</td>\n",
       "      <td>5530</td>\n",
       "      <td>176194</td>\n",
       "      <td>1421854</td>\n",
       "      <td>23079</td>\n",
       "      <td>39940</td>\n",
       "      <td>405533</td>\n",
       "      <td>13905</td>\n",
       "      <td>128583</td>\n",
       "      <td>5084</td>\n",
       "      <td>...</td>\n",
       "      <td>107035</td>\n",
       "      <td>281744</td>\n",
       "      <td>104546</td>\n",
       "      <td>159335</td>\n",
       "      <td>803713</td>\n",
       "      <td>109137</td>\n",
       "      <td>63498</td>\n",
       "      <td>431472</td>\n",
       "      <td>158242</td>\n",
       "      <td>10056</td>\n",
       "    </tr>\n",
       "    <tr>\n",
       "      <th>Gen_X</th>\n",
       "      <td>549676</td>\n",
       "      <td>8890</td>\n",
       "      <td>291023</td>\n",
       "      <td>2332542</td>\n",
       "      <td>36797</td>\n",
       "      <td>66261</td>\n",
       "      <td>667425</td>\n",
       "      <td>24243</td>\n",
       "      <td>213368</td>\n",
       "      <td>8597</td>\n",
       "      <td>...</td>\n",
       "      <td>173365</td>\n",
       "      <td>463095</td>\n",
       "      <td>175182</td>\n",
       "      <td>261902</td>\n",
       "      <td>1331158</td>\n",
       "      <td>182087</td>\n",
       "      <td>107814</td>\n",
       "      <td>712039</td>\n",
       "      <td>258645</td>\n",
       "      <td>17090</td>\n",
       "    </tr>\n",
       "    <tr>\n",
       "      <th>Gen_Z</th>\n",
       "      <td>205707</td>\n",
       "      <td>3473</td>\n",
       "      <td>107860</td>\n",
       "      <td>879504</td>\n",
       "      <td>15930</td>\n",
       "      <td>25396</td>\n",
       "      <td>244903</td>\n",
       "      <td>9626</td>\n",
       "      <td>80298</td>\n",
       "      <td>3305</td>\n",
       "      <td>...</td>\n",
       "      <td>65968</td>\n",
       "      <td>172812</td>\n",
       "      <td>66493</td>\n",
       "      <td>97761</td>\n",
       "      <td>502790</td>\n",
       "      <td>67356</td>\n",
       "      <td>39105</td>\n",
       "      <td>267745</td>\n",
       "      <td>96964</td>\n",
       "      <td>6714</td>\n",
       "    </tr>\n",
       "    <tr>\n",
       "      <th>Millennials</th>\n",
       "      <td>540957</td>\n",
       "      <td>8911</td>\n",
       "      <td>285819</td>\n",
       "      <td>2325309</td>\n",
       "      <td>37557</td>\n",
       "      <td>66334</td>\n",
       "      <td>651409</td>\n",
       "      <td>22837</td>\n",
       "      <td>210428</td>\n",
       "      <td>8484</td>\n",
       "      <td>...</td>\n",
       "      <td>170778</td>\n",
       "      <td>454445</td>\n",
       "      <td>170928</td>\n",
       "      <td>261439</td>\n",
       "      <td>1328110</td>\n",
       "      <td>178714</td>\n",
       "      <td>103772</td>\n",
       "      <td>713375</td>\n",
       "      <td>257632</td>\n",
       "      <td>16671</td>\n",
       "    </tr>\n",
       "    <tr>\n",
       "      <th>Post_War</th>\n",
       "      <td>207573</td>\n",
       "      <td>3248</td>\n",
       "      <td>108693</td>\n",
       "      <td>874014</td>\n",
       "      <td>13474</td>\n",
       "      <td>24913</td>\n",
       "      <td>248720</td>\n",
       "      <td>9618</td>\n",
       "      <td>79511</td>\n",
       "      <td>3292</td>\n",
       "      <td>...</td>\n",
       "      <td>65816</td>\n",
       "      <td>171298</td>\n",
       "      <td>64924</td>\n",
       "      <td>97396</td>\n",
       "      <td>494667</td>\n",
       "      <td>68183</td>\n",
       "      <td>38456</td>\n",
       "      <td>269088</td>\n",
       "      <td>96876</td>\n",
       "      <td>6191</td>\n",
       "    </tr>\n",
       "  </tbody>\n",
       "</table>\n",
       "<p>6 rows × 21 columns</p>\n",
       "</div>"
      ],
      "text/plain": [
       "department_id    1.0   2.0     3.0      4.0    5.0    6.0     7.0    8.0   \\\n",
       "Generation                                                                  \n",
       "Boomers_I      307309  4812  159608  1312184  20286  36077  373818  13239   \n",
       "Boomers_II     334848  5530  176194  1421854  23079  39940  405533  13905   \n",
       "Gen_X          549676  8890  291023  2332542  36797  66261  667425  24243   \n",
       "Gen_Z          205707  3473  107860   879504  15930  25396  244903   9626   \n",
       "Millennials    540957  8911  285819  2325309  37557  66334  651409  22837   \n",
       "Post_War       207573  3248  108693   874014  13474  24913  248720   9618   \n",
       "\n",
       "department_id    9.0   10.0  ...    12.0    13.0    14.0    15.0     16.0  \\\n",
       "Generation                   ...                                            \n",
       "Boomers_I      119197  4736  ...   98530  258463   94829  146189   749183   \n",
       "Boomers_II     128583  5084  ...  107035  281744  104546  159335   803713   \n",
       "Gen_X          213368  8597  ...  173365  463095  175182  261902  1331158   \n",
       "Gen_Z           80298  3305  ...   65968  172812   66493   97761   502790   \n",
       "Millennials    210428  8484  ...  170778  454445  170928  261439  1328110   \n",
       "Post_War        79511  3292  ...   65816  171298   64924   97396   494667   \n",
       "\n",
       "department_id    17.0    18.0    19.0    20.0   21.0  \n",
       "Generation                                            \n",
       "Boomers_I      102742   57365  393455  144615   9298  \n",
       "Boomers_II     109137   63498  431472  158242  10056  \n",
       "Gen_X          182087  107814  712039  258645  17090  \n",
       "Gen_Z           67356   39105  267745   96964   6714  \n",
       "Millennials    178714  103772  713375  257632  16671  \n",
       "Post_War        68183   38456  269088   96876   6191  \n",
       "\n",
       "[6 rows x 21 columns]"
      ]
     },
     "execution_count": 51,
     "metadata": {},
     "output_type": "execute_result"
    }
   ],
   "source": [
    "crosstab_gen_dept"
   ]
  },
  {
   "cell_type": "code",
   "execution_count": 52,
   "id": "d2018773",
   "metadata": {},
   "outputs": [],
   "source": [
    "crosstab_gen_dept.to_clipboard()"
   ]
  },
  {
   "cell_type": "code",
   "execution_count": 53,
   "id": "c5512a16",
   "metadata": {},
   "outputs": [
    {
     "name": "stdout",
     "output_type": "stream",
     "text": [
      "n_dependants        0        1        2        3\n",
      "Generation                                      \n",
      "Boomers_I     1109485  1113755  1148015  1125016\n",
      "Boomers_II    1269295  1172034  1202706  1239046\n",
      "Gen_X         1988052  2050512  1981578  2026247\n",
      "Gen_Z          735164   773121   742993   769443\n",
      "Millennials   2014089  1963147  2015333  1982597\n",
      "Post_War       747691   752664   762021   744128\n"
     ]
    }
   ],
   "source": [
    "#Exploring correlation between generations and number of dependents\n",
    "crosstab_gen_ndep = pd.crosstab(df_high['Generation'], df_high['n_dependants'], dropna = False)\n",
    "print(crosstab_gen_ndep)\n",
    "crosstab_gen_ndep.to_clipboard()"
   ]
  },
  {
   "cell_type": "code",
   "execution_count": 55,
   "id": "ac286f2d",
   "metadata": {},
   "outputs": [
    {
     "name": "stdout",
     "output_type": "stream",
     "text": [
      "orders_day_of_week        0        1        2       3       4        5  \\\n",
      "Generation                                                               \n",
      "Boomers_I            855480   775125   587671  537649  523753   588192   \n",
      "Boomers_II           931531   853488   635377  583760  572573   629774   \n",
      "Gen_X               1530724  1399589  1055290  950524  939747  1049946   \n",
      "Gen_Z                575819   530420   391996  357391  353427   397195   \n",
      "Millennials         1536273  1404754  1028415  942214  938520  1032607   \n",
      "Post_War             581649   521553   385703  355813  348665   390123   \n",
      "\n",
      "orders_day_of_week        6  \n",
      "Generation                   \n",
      "Boomers_I            628401  \n",
      "Boomers_II           676578  \n",
      "Gen_X               1120569  \n",
      "Gen_Z                414473  \n",
      "Millennials         1092383  \n",
      "Post_War             422998  \n"
     ]
    }
   ],
   "source": [
    "#Exploring correlation between generations and purchase days\n",
    "crosstab_gen_day = pd.crosstab(df_high['Generation'], df_high['orders_day_of_week'], dropna = False)\n",
    "print(crosstab_gen_day)\n",
    "crosstab_gen_day.to_clipboard()"
   ]
  },
  {
   "cell_type": "code",
   "execution_count": 56,
   "id": "4088a906",
   "metadata": {},
   "outputs": [
    {
     "name": "stderr",
     "output_type": "stream",
     "text": [
      "C:\\Users\\sasze\\anaconda3\\lib\\site-packages\\pandas\\core\\indexing.py:1599: SettingWithCopyWarning: \n",
      "A value is trying to be set on a copy of a slice from a DataFrame.\n",
      "Try using .loc[row_indexer,col_indexer] = value instead\n",
      "\n",
      "See the caveats in the documentation: https://pandas.pydata.org/pandas-docs/stable/user_guide/indexing.html#returning-a-view-versus-a-copy\n",
      "  self.obj[key] = infer_fill_value(value)\n",
      "C:\\Users\\sasze\\anaconda3\\lib\\site-packages\\pandas\\core\\indexing.py:1720: SettingWithCopyWarning: \n",
      "A value is trying to be set on a copy of a slice from a DataFrame.\n",
      "Try using .loc[row_indexer,col_indexer] = value instead\n",
      "\n",
      "See the caveats in the documentation: https://pandas.pydata.org/pandas-docs/stable/user_guide/indexing.html#returning-a-view-versus-a-copy\n",
      "  self._setitem_single_column(loc, value, pi)\n",
      "C:\\Users\\sasze\\anaconda3\\lib\\site-packages\\pandas\\core\\indexing.py:1720: SettingWithCopyWarning: \n",
      "A value is trying to be set on a copy of a slice from a DataFrame.\n",
      "Try using .loc[row_indexer,col_indexer] = value instead\n",
      "\n",
      "See the caveats in the documentation: https://pandas.pydata.org/pandas-docs/stable/user_guide/indexing.html#returning-a-view-versus-a-copy\n",
      "  self._setitem_single_column(loc, value, pi)\n",
      "C:\\Users\\sasze\\anaconda3\\lib\\site-packages\\pandas\\core\\indexing.py:1720: SettingWithCopyWarning: \n",
      "A value is trying to be set on a copy of a slice from a DataFrame.\n",
      "Try using .loc[row_indexer,col_indexer] = value instead\n",
      "\n",
      "See the caveats in the documentation: https://pandas.pydata.org/pandas-docs/stable/user_guide/indexing.html#returning-a-view-versus-a-copy\n",
      "  self._setitem_single_column(loc, value, pi)\n",
      "C:\\Users\\sasze\\anaconda3\\lib\\site-packages\\pandas\\core\\indexing.py:1720: SettingWithCopyWarning: \n",
      "A value is trying to be set on a copy of a slice from a DataFrame.\n",
      "Try using .loc[row_indexer,col_indexer] = value instead\n",
      "\n",
      "See the caveats in the documentation: https://pandas.pydata.org/pandas-docs/stable/user_guide/indexing.html#returning-a-view-versus-a-copy\n",
      "  self._setitem_single_column(loc, value, pi)\n",
      "C:\\Users\\sasze\\anaconda3\\lib\\site-packages\\pandas\\core\\indexing.py:1720: SettingWithCopyWarning: \n",
      "A value is trying to be set on a copy of a slice from a DataFrame.\n",
      "Try using .loc[row_indexer,col_indexer] = value instead\n",
      "\n",
      "See the caveats in the documentation: https://pandas.pydata.org/pandas-docs/stable/user_guide/indexing.html#returning-a-view-versus-a-copy\n",
      "  self._setitem_single_column(loc, value, pi)\n",
      "C:\\Users\\sasze\\anaconda3\\lib\\site-packages\\pandas\\core\\indexing.py:1720: SettingWithCopyWarning: \n",
      "A value is trying to be set on a copy of a slice from a DataFrame.\n",
      "Try using .loc[row_indexer,col_indexer] = value instead\n",
      "\n",
      "See the caveats in the documentation: https://pandas.pydata.org/pandas-docs/stable/user_guide/indexing.html#returning-a-view-versus-a-copy\n",
      "  self._setitem_single_column(loc, value, pi)\n"
     ]
    }
   ],
   "source": [
    "#Creating filter for income brackets\n",
    "\n",
    "df_high.loc[df_high['income'] < 100000, 'income_range'] = '0 - 100k'\n",
    "df_high.loc[(df_high['income'] >= 100000) & (df_high['income'] < 200000), 'income_range'] = '100-200k'\n",
    "df_high.loc[(df_high['income'] >= 200000) & (df_high['income'] < 300000), 'income_range'] = '200-300k'\n",
    "df_high.loc[(df_high['income'] >= 300000) & (df_high['income'] < 400000), 'income_range'] = '300-400k'\n",
    "df_high.loc[(df_high['income'] >= 400000) & (df_high['income'] < 500000), 'income_range'] = '400-500k'\n",
    "df_high.loc[df_high['income'] >= 500000, 'income_range'] = 'Over 500k'"
   ]
  },
  {
   "cell_type": "code",
   "execution_count": 57,
   "id": "4ccb6aab",
   "metadata": {},
   "outputs": [
    {
     "data": {
      "text/plain": [
       "0 - 100k     17310328\n",
       "100-200k     14361871\n",
       "200-300k       156413\n",
       "300-400k        53847\n",
       "400-500k        28313\n",
       "Over 500k       19207\n",
       "Name: income_range, dtype: int64"
      ]
     },
     "execution_count": 57,
     "metadata": {},
     "output_type": "execute_result"
    }
   ],
   "source": [
    "df_high['income_range'].value_counts()"
   ]
  },
  {
   "cell_type": "code",
   "execution_count": 58,
   "id": "4aab48d0",
   "metadata": {},
   "outputs": [
    {
     "name": "stdout",
     "output_type": "stream",
     "text": [
      "income_range  0 - 100k  100-200k  200-300k  300-400k  400-500k  Over 500k\n",
      "Generation                                                               \n",
      "Boomers_I      1337459   3116608     28150      5130      5550       3374\n",
      "Boomers_II     1492031   3340550     28602     12193      5878       3827\n",
      "Gen_X          2436078   5519106     58477     11731     12674       8323\n",
      "Gen_Z          2927411     83777      3202      6331         0          0\n",
      "Millennials    7719863    225473     13502     16328         0          0\n",
      "Post_War        915966   2058554     22306      1784      4211       3683\n"
     ]
    }
   ],
   "source": [
    "#Exploring correlation between generations and income\n",
    "crosstab_gen_income = pd.crosstab(df_high['Generation'], df_high['income_range'], dropna = False)\n",
    "print(crosstab_gen_income)\n",
    "crosstab_gen_income.to_clipboard()"
   ]
  },
  {
   "cell_type": "code",
   "execution_count": 59,
   "id": "df7c2ef4",
   "metadata": {},
   "outputs": [
    {
     "name": "stdout",
     "output_type": "stream",
     "text": [
      "department_id     1.0    2.0     3.0      4.0    5.0     6.0      7.0    8.0   \\\n",
      "income_range                                                                    \n",
      "0 - 100k       1167079  19220  608641  4959611  78320  139880  1481759  49347   \n",
      "100-200k        993695  15703  526623  4279349  64813  120980  1126527  44233   \n",
      "200-300k         12221    297    7803    29417   3348    1176    15460   1138   \n",
      "300-400k          4516    114    2836    10868   1364     444     4889    320   \n",
      "400-500k          2056     49    1274     5364    854     252     2751    280   \n",
      "Over 500k         1220     20     806     4251    610     188     1728    152   \n",
      "\n",
      "department_id    9.0    10.0  ...    12.0    13.0    14.0    15.0     16.0  \\\n",
      "income_range                  ...                                            \n",
      "0 - 100k       442376  19559  ...  348872  970085  383038  543084  2835755   \n",
      "100-200k       396017  14425  ...  337579  844977  298040  488888  2412273   \n",
      "200-300k         4123     22  ...    3840    9675    4188    5311    27914   \n",
      "300-400k         1474      1  ...    1286    3481    1316    2015     8780   \n",
      "400-500k          761      1  ...     715    1810     659    1103     4617   \n",
      "Over 500k         617      3  ...     386    1095     418     770     3406   \n",
      "\n",
      "department_id    17.0    18.0     19.0    20.0   21.0  \n",
      "income_range                                           \n",
      "0 - 100k       391912  217952  1702074  556049  36620  \n",
      "100-200k       316494  197446  1104514  465297  30093  \n",
      "200-300k         6873    1417    14204    4540    214  \n",
      "300-400k         2417     322     4664    1565     59  \n",
      "400-500k         1454     122     2803     856     39  \n",
      "Over 500k         937     277     1508     400      9  \n",
      "\n",
      "[6 rows x 21 columns]\n"
     ]
    }
   ],
   "source": [
    "# Exploring correlation between department and income\n",
    "crosstab_dep_income = pd.crosstab(df_high['income_range'], df_high['department_id'], dropna = False)\n",
    "print(crosstab_dep_income)\n",
    "crosstab_dep_income.to_clipboard()"
   ]
  },
  {
   "cell_type": "code",
   "execution_count": 61,
   "id": "e68a1186",
   "metadata": {},
   "outputs": [
    {
     "name": "stdout",
     "output_type": "stream",
     "text": [
      "department_id        1.0   2.0    3.0     4.0    5.0    6.0     7.0   8.0   \\\n",
      "order_hour_of_day                                                            \n",
      "0                   15220   244   7147   66779    482   1847   17093   667   \n",
      "1                    8687   134   3667   34296    299    993    9783   422   \n",
      "2                    5273   117   2340   19554    252    583    6033   251   \n",
      "3                    3997    69   1786   14070    185    495    4600   256   \n",
      "4                    4067    63   1870   14999    185    446    4717   273   \n",
      "5                    6334   100   3038   26444    265    685    7270   314   \n",
      "6                   19006   314  10620   86088    673   2199   22631   965   \n",
      "7                   55754   890  33569  264933   2079   6320   67814  2432   \n",
      "8                  103008  1778  62583  503003   5178  12388  137809  4410   \n",
      "9                  143704  2592  87236  702055  10121  18121  215383  6239   \n",
      "10                 165909  2900  96189  785487  13084  22112  240652  7414   \n",
      "11                 172963  2908  95970  779924  13437  22575  229442  7687   \n",
      "12                 172983  2873  92849  751871  12916  22217  209512  7812   \n",
      "13                 178903  2889  94417  763000  13662  22469  214733  7753   \n",
      "14                 181559  2961  95785  770282  14659  22589  216926  7702   \n",
      "15                 184417  2942  95849  759868  14711  22623  214068  7713   \n",
      "16                 180447  2756  91655  719092  13854  21374  205197  7979   \n",
      "17                 156910  2489  75300  580634  11702  17154  170852  7234   \n",
      "18                 127740  1928  58188  450918   8530  12959  135023  6079   \n",
      "19                  98824  1480  44079  347613   5654   9838  103161  4619   \n",
      "20                  72436  1077  33348  282265   3256   7671   74127  2920   \n",
      "21                  53577   832  26604  243341   1904   6333   54620  1946   \n",
      "22                  41940   648  20752  198397   1361   5410   42456  1416   \n",
      "23                  27129   419  13142  123947    860   3519   29212   967   \n",
      "\n",
      "department_id       9.0   10.0  ...   12.0    13.0   14.0   15.0    16.0  \\\n",
      "order_hour_of_day               ...                                        \n",
      "0                   5707   235  ...   4612   13271   4226   6991   33905   \n",
      "1                   2996   116  ...   2355    7117   2294   3806   17359   \n",
      "2                   1763    66  ...   1500    4296   1355   2356   10428   \n",
      "3                   1278    49  ...   1081    3160   1041   1678    7872   \n",
      "4                   1423    47  ...   1144    3190   1087   1780    7979   \n",
      "5                   2124    77  ...   1834    4916   1838   2807   14056   \n",
      "6                   7429   318  ...   6136   15705   6667   8813   50667   \n",
      "7                  22784   895  ...  19114   47233  21264  26410  157227   \n",
      "8                  42205  1802  ...  36342   92170  40239  52036  301706   \n",
      "9                  57815  2709  ...  49083  132260  57373  74093  421648   \n",
      "10                 67516  3037  ...  55800  154821  61215  87884  461063   \n",
      "11                 70466  2871  ...  58885  157661  57407  90727  443034   \n",
      "12                 69803  2655  ...  57476  152826  52871  88964  416408   \n",
      "13                 71660  2792  ...  58046  154723  53619  90184  425173   \n",
      "14                 72292  2715  ...  59021  154954  54953  89043  432743   \n",
      "15                 71973  2806  ...  58986  151392  54168  87294  427170   \n",
      "16                 68464  2527  ...  55541  140844  52455  81546  407626   \n",
      "17                 56390  2083  ...  45414  117548  42795  65837  332263   \n",
      "18                 43512  1616  ...  35467   91352  34068  49894  261598   \n",
      "19                 33112  1296  ...  25936   70194  26938  38664  202229   \n",
      "20                 25462  1137  ...  20406   55091  21011  30332  160179   \n",
      "21                 21287   937  ...  16760   45911  17143  25983  131794   \n",
      "22                 17358   728  ...  13195   36837  13185  21069  103743   \n",
      "23                 10549   497  ...   8544   23651   8447  12980   64875   \n",
      "\n",
      "department_id       17.0   18.0    19.0   20.0  21.0  \n",
      "order_hour_of_day                                     \n",
      "0                   4859   2353   17323   6736   532  \n",
      "1                   2823   1097    8920   3575   306  \n",
      "2                   1846    627    5510   2207   168  \n",
      "3                   1403    460    4116   1583   129  \n",
      "4                   1586    551    3930   1617   149  \n",
      "5                   2238   1097    6489   2721   183  \n",
      "6                   6725   4840   22937   8841   607  \n",
      "7                  20446  16597   71405  26837  1854  \n",
      "8                  38750  28412  148129  52151  3333  \n",
      "9                  55303  34035  229545  75313  4917  \n",
      "10                 62459  33872  258165  86602  5702  \n",
      "11                 62437  31409  249922  87417  5635  \n",
      "12                 59475  30315  229491  84135  5371  \n",
      "13                 59196  32941  232099  84532  5438  \n",
      "14                 58125  33813  234843  85745  5527  \n",
      "15                 56184  32438  231327  85754  5544  \n",
      "16                 53221  29589  221350  83311  5031  \n",
      "17                 45756  22872  181279  69477  4356  \n",
      "18                 37458  18299  138576  53842  3570  \n",
      "19                 29697  15813  106793  40291  2719  \n",
      "20                 21988  15784   80817  29939  2007  \n",
      "21                 16609  14604   63894  23978  1697  \n",
      "22                 13087  10391   50252  19514  1369  \n",
      "23                  8416   5327   32655  12589   890  \n",
      "\n",
      "[24 rows x 21 columns]\n"
     ]
    }
   ],
   "source": [
    "#Exploring correlation between department and time of order\n",
    "crosstab_dep_time = pd.crosstab(df_high['order_hour_of_day'], df_high['department_id'], dropna = False)\n",
    "print(crosstab_dep_time)\n",
    "crosstab_dep_time.to_clipboard()"
   ]
  },
  {
   "cell_type": "code",
   "execution_count": 62,
   "id": "b28d56ec",
   "metadata": {},
   "outputs": [
    {
     "name": "stdout",
     "output_type": "stream",
     "text": [
      "Generation  Boomers_I  Boomers_II    Gen_X   Gen_Z  Millennials  Post_War\n",
      "region                                                                   \n",
      "Midwest       1044406     1136911  1929636  709371      1856886    701641\n",
      "Northeast      802021      877623  1406815  538022      1394242    535384\n",
      "South         1382905     1538481  2469547  964928      2529973    954281\n",
      "West          1266939     1330066  2240391  808400      2194065    815198\n"
     ]
    }
   ],
   "source": [
    "# Exploring correlation between region and generation\n",
    "crosstab_reg_gen = pd.crosstab(df_high['region'], df_high['Generation'], dropna = False)\n",
    "print(crosstab_reg_gen)\n",
    "crosstab_reg_gen.to_clipboard()"
   ]
  },
  {
   "cell_type": "code",
   "execution_count": 63,
   "id": "18a0837f",
   "metadata": {},
   "outputs": [
    {
     "name": "stderr",
     "output_type": "stream",
     "text": [
      "C:\\Users\\sasze\\anaconda3\\lib\\site-packages\\pandas\\core\\indexing.py:1599: SettingWithCopyWarning: \n",
      "A value is trying to be set on a copy of a slice from a DataFrame.\n",
      "Try using .loc[row_indexer,col_indexer] = value instead\n",
      "\n",
      "See the caveats in the documentation: https://pandas.pydata.org/pandas-docs/stable/user_guide/indexing.html#returning-a-view-versus-a-copy\n",
      "  self.obj[key] = infer_fill_value(value)\n",
      "C:\\Users\\sasze\\anaconda3\\lib\\site-packages\\pandas\\core\\indexing.py:1720: SettingWithCopyWarning: \n",
      "A value is trying to be set on a copy of a slice from a DataFrame.\n",
      "Try using .loc[row_indexer,col_indexer] = value instead\n",
      "\n",
      "See the caveats in the documentation: https://pandas.pydata.org/pandas-docs/stable/user_guide/indexing.html#returning-a-view-versus-a-copy\n",
      "  self._setitem_single_column(loc, value, pi)\n",
      "C:\\Users\\sasze\\anaconda3\\lib\\site-packages\\pandas\\core\\indexing.py:1720: SettingWithCopyWarning: \n",
      "A value is trying to be set on a copy of a slice from a DataFrame.\n",
      "Try using .loc[row_indexer,col_indexer] = value instead\n",
      "\n",
      "See the caveats in the documentation: https://pandas.pydata.org/pandas-docs/stable/user_guide/indexing.html#returning-a-view-versus-a-copy\n",
      "  self._setitem_single_column(loc, value, pi)\n"
     ]
    }
   ],
   "source": [
    "#Creating filter for parental status\n",
    "df_high.loc[df_high['n_dependants'] > 0, 'parental_status'] = 'Parent'\n",
    "df_high.loc[df_high['n_dependants'] <= 0, 'parental_status'] = 'Not Parent'"
   ]
  },
  {
   "cell_type": "code",
   "execution_count": 64,
   "id": "92a765cf",
   "metadata": {},
   "outputs": [
    {
     "data": {
      "text/plain": [
       "Parent        23950452\n",
       "Not Parent     7979527\n",
       "Name: parental_status, dtype: int64"
      ]
     },
     "execution_count": 64,
     "metadata": {},
     "output_type": "execute_result"
    }
   ],
   "source": [
    "#Checking values of parental status flag\n",
    "df_high['parental_status'].value_counts()"
   ]
  },
  {
   "cell_type": "code",
   "execution_count": 65,
   "id": "27c781e1",
   "metadata": {},
   "outputs": [
    {
     "name": "stdout",
     "output_type": "stream",
     "text": [
      "parental_status  Not Parent   Parent\n",
      "region                              \n",
      "Midwest             1878278  5608578\n",
      "Northeast           1397526  4239684\n",
      "South               2493145  7512673\n",
      "West                2210578  6589517\n"
     ]
    }
   ],
   "source": [
    "#Exploring correlation between region and parental status\n",
    "crosstab_reg_par = pd.crosstab(df_high['region'], df_high['parental_status'], dropna = False)\n",
    "print(crosstab_reg_par)\n",
    "crosstab_reg_par.to_clipboard()"
   ]
  },
  {
   "cell_type": "code",
   "execution_count": 66,
   "id": "d0897c6f",
   "metadata": {},
   "outputs": [
    {
     "name": "stdout",
     "output_type": "stream",
     "text": [
      "Generation       Boomers_I  Boomers_II    Gen_X    Gen_Z  Millennials  \\\n",
      "parental_status                                                         \n",
      "Not Parent         1109485     1269295  1988052   735164      2014089   \n",
      "Parent             3386786     3613786  6058337  2285557      5961077   \n",
      "\n",
      "Generation       Post_War  \n",
      "parental_status            \n",
      "Not Parent         747691  \n",
      "Parent            2258813  \n"
     ]
    }
   ],
   "source": [
    "#Exploring correlation between parental status and generation\n",
    "crosstab_gen_par = pd.crosstab(df_high['parental_status'], df_high['Generation'], dropna = False)\n",
    "print(crosstab_gen_par)\n",
    "crosstab_gen_par.to_clipboard()"
   ]
  },
  {
   "cell_type": "code",
   "execution_count": 67,
   "id": "e8174811",
   "metadata": {},
   "outputs": [
    {
     "name": "stdout",
     "output_type": "stream",
     "text": [
      "frequency_flag  Frequent customer  Non-frequent customer  Regular customer\n",
      "income_range                                                              \n",
      "0 - 100k                 11576830                1854066           3879432\n",
      "100-200k                  9705516                1459268           3197087\n",
      "200-300k                   113124                  10636             32653\n",
      "300-400k                    39549                   4163             10135\n",
      "400-500k                    19478                   2025              6810\n",
      "Over 500k                   13593                   1122              4492\n"
     ]
    }
   ],
   "source": [
    "#Exploring correlation between income range and frequency buying\n",
    "crosstab_income_freq = pd.crosstab(df_high['income_range'], df_high['frequency_flag'], dropna = False)\n",
    "print(crosstab_income_freq)\n",
    "crosstab_income_freq.to_clipboard()"
   ]
  },
  {
   "cell_type": "code",
   "execution_count": 68,
   "id": "a6744c00",
   "metadata": {},
   "outputs": [
    {
     "name": "stdout",
     "output_type": "stream",
     "text": [
      "income_range  0 - 100k  100-200k  200-300k  300-400k  400-500k  Over 500k\n",
      "region                                                                   \n",
      "Midwest        3990932   3430730     34087     14482      8982       7643\n",
      "Northeast      3044921   2551489     25196      8850      3334       3420\n",
      "South          5488983   4437443     48809     18835      7898       3850\n",
      "West           4785492   3942209     48321     11680      8099       4294\n"
     ]
    }
   ],
   "source": [
    "# Exploring correlation between income range and region\n",
    "crosstab_income_reg = pd.crosstab(df_high['region'], df_high['income_range'], dropna = False)\n",
    "print(crosstab_income_reg)\n",
    "crosstab_income_reg.to_clipboard()"
   ]
  },
  {
   "cell_type": "code",
   "execution_count": 69,
   "id": "f0668edd",
   "metadata": {},
   "outputs": [
    {
     "name": "stdout",
     "output_type": "stream",
     "text": [
      "region         Midwest  Northeast    South     West\n",
      "department_id                                      \n",
      "1.0             511735     381216   688056   599780\n",
      "2.0               8190       6439    11291     9483\n",
      "3.0             268083     204098   357663   318139\n",
      "4.0            2183452    1631097  2915692  2558619\n",
      "5.0              35158      25821    47248    41082\n",
      "6.0              62255      45816    82128    72721\n",
      "7.0             612866     473674   826928   719646\n",
      "8.0              21874      18217    28577    26802\n",
      "9.0             198790     148090   264146   234342\n",
      "10.0              8070       5705    10578     9658\n",
      "11.0            103262      76820   136944   119369\n",
      "12.0            162437     121691   217073   191477\n",
      "13.0            431789     321348   571624   506362\n",
      "14.0            160140     120756   215398   191365\n",
      "15.0            244248     181990   326195   288738\n",
      "16.0           1239389     935171  1658103  1460082\n",
      "17.0            171648     128224   222117   198098\n",
      "18.0             97509      74067   132654   113306\n",
      "19.0            659920     504555   882932   782360\n",
      "20.0            240495     182738   322615   282859\n",
      "21.0             16075      11950    21221    17788\n"
     ]
    }
   ],
   "source": [
    "# Exploring correlation between department and region\n",
    "crosstab_dept_reg = pd.crosstab(df_high['department_id'], df_high['region'], dropna = False)\n",
    "print(crosstab_dept_reg)\n",
    "crosstab_dept_reg.to_clipboard()"
   ]
  },
  {
   "cell_type": "code",
   "execution_count": 70,
   "id": "f1999831",
   "metadata": {},
   "outputs": [
    {
     "name": "stdout",
     "output_type": "stream",
     "text": [
      "loyalty_flag  Loyal customer  New customer  Regular customer\n",
      "Generation                                                  \n",
      "Boomers_I            1527481        685106           2283684\n",
      "Boomers_II           1644605        755398           2483078\n",
      "Gen_X                2694928       1228484           4122977\n",
      "Gen_Z                1020170        460335           1540216\n",
      "Millennials          2634099       1202521           4138546\n",
      "Post_War              996794        458191           1551519\n"
     ]
    }
   ],
   "source": [
    "#Exploring correlation between Generation and loyalty\n",
    "crosstab_gen_loyal = pd.crosstab(df_high['Generation'], df_high['loyalty_flag'], dropna = False)\n",
    "print(crosstab_gen_loyal)\n",
    "crosstab_gen_loyal.to_clipboard()"
   ]
  },
  {
   "cell_type": "code",
   "execution_count": 71,
   "id": "234fc480",
   "metadata": {},
   "outputs": [
    {
     "name": "stdout",
     "output_type": "stream",
     "text": [
      "loyalty_flag  Loyal customer  New customer  Regular customer\n",
      "region                                                      \n",
      "Midwest              2461962       1145203           3879691\n",
      "Northeast            1905685        856916           2874609\n",
      "South                3335405       1523600           5146813\n",
      "West                 2976526       1343210           4480359\n"
     ]
    }
   ],
   "source": [
    "#Exploring correlation between region and loyalty\n",
    "crosstab_reg_loyal = pd.crosstab(df_high['region'], df_high['loyalty_flag'], dropna = False)\n",
    "print(crosstab_reg_loyal)\n",
    "crosstab_reg_loyal.to_clipboard()"
   ]
  },
  {
   "cell_type": "code",
   "execution_count": 77,
   "id": "5ee66092",
   "metadata": {},
   "outputs": [
    {
     "name": "stdout",
     "output_type": "stream",
     "text": [
      "spending_flag      High Spender  Low Spender\n",
      "order_hour_of_day                           \n",
      "0                          3635       211178\n",
      "1                          2180       111571\n",
      "2                          1773        66381\n",
      "3                          1179        49351\n",
      "4                          1322        51123\n",
      "5                          2037        84877\n",
      "6                          6686       281440\n",
      "7                         18316       865107\n",
      "8                         31641      1669025\n",
      "9                         46505      2379582\n",
      "10                        55582      2669896\n",
      "11                        54529      2641300\n",
      "12                        50645      2524256\n",
      "13                        49307      2571404\n",
      "14                        51541      2597649\n",
      "15                        53514      2566191\n",
      "16                        49501      2444406\n",
      "17                        42627      2009803\n",
      "18                        31759      1575387\n",
      "19                        23674      1213905\n",
      "20                        17931       943812\n",
      "21                        12266       772578\n",
      "22                         9310       616040\n",
      "23                         6260       389997\n"
     ]
    }
   ],
   "source": [
    "#Exploring correlation between income range and frequency buying\n",
    "\n",
    "crosstab_tod_prange = pd.crosstab(df_high['order_hour_of_day'], df_high['spending_flag'], dropna = False)\n",
    "print(crosstab_tod_prange)\n",
    "crosstab_tod_prange.to_clipboard()"
   ]
  },
  {
   "cell_type": "code",
   "execution_count": 79,
   "id": "d8eeea78",
   "metadata": {},
   "outputs": [],
   "source": [
    "df_high_spend =  df_high[df_high['spending_flag']=='High Spender']"
   ]
  },
  {
   "cell_type": "code",
   "execution_count": 80,
   "id": "be841b1c",
   "metadata": {},
   "outputs": [
    {
     "name": "stdout",
     "output_type": "stream",
     "text": [
      "spending_flag      High Spender  Low Spender\n",
      "order_hour_of_day                           \n",
      "0                          3635            0\n",
      "1                          2180            0\n",
      "2                          1773            0\n",
      "3                          1179            0\n",
      "4                          1322            0\n",
      "5                          2037            0\n",
      "6                          6686            0\n",
      "7                         18316            0\n",
      "8                         31641            0\n",
      "9                         46505            0\n",
      "10                        55582            0\n",
      "11                        54529            0\n",
      "12                        50645            0\n",
      "13                        49307            0\n",
      "14                        51541            0\n",
      "15                        53514            0\n",
      "16                        49501            0\n",
      "17                        42627            0\n",
      "18                        31759            0\n",
      "19                        23674            0\n",
      "20                        17931            0\n",
      "21                        12266            0\n",
      "22                         9310            0\n",
      "23                         6260            0\n"
     ]
    }
   ],
   "source": [
    "#Exploring correlation between order time of day and price range\n",
    "\n",
    "crosstab_tod_prange_high = pd.crosstab(df_high['order_hour_of_day'], df_high_spend['spending_flag'], dropna = False)\n",
    "print(crosstab_tod_prange_high)\n",
    "crosstab_tod_prange_high.to_clipboard()"
   ]
  },
  {
   "cell_type": "code",
   "execution_count": 81,
   "id": "769f1c69",
   "metadata": {},
   "outputs": [
    {
     "name": "stdout",
     "output_type": "stream",
     "text": [
      "spending_flag       High Spender  Low Spender\n",
      "orders_day_of_week                           \n",
      "0                         104629            0\n",
      "1                         112410            0\n",
      "2                          85145            0\n",
      "3                          78745            0\n",
      "4                          77326            0\n",
      "5                          85960            0\n",
      "6                          79505            0\n"
     ]
    }
   ],
   "source": [
    "#Exploring correlation between order day of week and price range\n",
    "crosstab_dow_prange_high = pd.crosstab(df_high['orders_day_of_week'], df_high_spend['spending_flag'], dropna = False)\n",
    "print(crosstab_dow_prange_high)\n",
    "crosstab_dow_prange_high.to_clipboard()"
   ]
  },
  {
   "cell_type": "code",
   "execution_count": 82,
   "id": "c3ec7d1b",
   "metadata": {},
   "outputs": [
    {
     "name": "stdout",
     "output_type": "stream",
     "text": [
      "spending_flag  High Spender  Low Spender\n",
      "region                                  \n",
      "Midwest              153991      7332865\n",
      "Northeast            106428      5530782\n",
      "South                189661      9816157\n",
      "West                 173640      8626455\n"
     ]
    }
   ],
   "source": [
    "#Exploring correlation between region and spending\n",
    "crosstab_reg_pran = pd.crosstab(df_high['region'], df_high['spending_flag'], dropna = False)\n",
    "print(crosstab_reg_pran)\n",
    "crosstab_reg_pran.to_clipboard()"
   ]
  },
  {
   "cell_type": "code",
   "execution_count": 83,
   "id": "c38b2c31",
   "metadata": {},
   "outputs": [
    {
     "name": "stdout",
     "output_type": "stream",
     "text": [
      "parental_status  Not Parent    Parent\n",
      "spending_flag                        \n",
      "High Spender         150569    473151\n",
      "Low Spender         7828958  23477301\n"
     ]
    }
   ],
   "source": [
    "#Exploring correlation between Parental status and Spending\n",
    "crosstab_parent_price = pd.crosstab(df_high['spending_flag'], df_high['parental_status'], dropna = False)\n",
    "print(crosstab_parent_price)\n",
    "crosstab_parent_price.to_clipboard()"
   ]
  },
  {
   "cell_type": "markdown",
   "id": "dcb632b7",
   "metadata": {},
   "source": [
    "## Visualizations"
   ]
  },
  {
   "cell_type": "code",
   "execution_count": 84,
   "id": "3a1bb4ba",
   "metadata": {},
   "outputs": [
    {
     "data": {
      "text/plain": [
       "order_id                     int64\n",
       "user_id                      int64\n",
       "order_number                 int64\n",
       "orders_day_of_week           int64\n",
       "order_hour_of_day            int64\n",
       "days_since_prior_order     float64\n",
       "first_order                   bool\n",
       "product_id                 float64\n",
       "product_name              category\n",
       "department_id              float64\n",
       "prices                     float64\n",
       "busiest day               category\n",
       "busiest days              category\n",
       "busiest_period_of_day     category\n",
       "max_order                    int16\n",
       "loyalty_flag                object\n",
       "spending                   float16\n",
       "spending_flag             category\n",
       "frequency                   uint16\n",
       "frequency_flag              object\n",
       "surname                     object\n",
       "gender                      object\n",
       "state                       object\n",
       "age                          int64\n",
       "date_joined                 object\n",
       "n_dependants                 int64\n",
       "fam_status                  object\n",
       "income                       int64\n",
       "_merge                    category\n",
       "region                    category\n",
       "Generation                  object\n",
       "income_range                object\n",
       "parental_status             object\n",
       "dtype: object"
      ]
     },
     "execution_count": 84,
     "metadata": {},
     "output_type": "execute_result"
    }
   ],
   "source": [
    "df_high.dtypes"
   ]
  },
  {
   "cell_type": "code",
   "execution_count": 85,
   "id": "7d6800c9",
   "metadata": {},
   "outputs": [
    {
     "data": {
      "text/html": [
       "<div>\n",
       "<style scoped>\n",
       "    .dataframe tbody tr th:only-of-type {\n",
       "        vertical-align: middle;\n",
       "    }\n",
       "\n",
       "    .dataframe tbody tr th {\n",
       "        vertical-align: top;\n",
       "    }\n",
       "\n",
       "    .dataframe thead th {\n",
       "        text-align: right;\n",
       "    }\n",
       "</style>\n",
       "<table border=\"1\" class=\"dataframe\">\n",
       "  <thead>\n",
       "    <tr style=\"text-align: right;\">\n",
       "      <th>spending_flag</th>\n",
       "      <th>High Spender</th>\n",
       "      <th>Low Spender</th>\n",
       "    </tr>\n",
       "    <tr>\n",
       "      <th>Generation</th>\n",
       "      <th></th>\n",
       "      <th></th>\n",
       "    </tr>\n",
       "  </thead>\n",
       "  <tbody>\n",
       "    <tr>\n",
       "      <th>Boomers_I</th>\n",
       "      <td>80735</td>\n",
       "      <td>4415536</td>\n",
       "    </tr>\n",
       "    <tr>\n",
       "      <th>Boomers_II</th>\n",
       "      <td>97616</td>\n",
       "      <td>4785465</td>\n",
       "    </tr>\n",
       "    <tr>\n",
       "      <th>Gen_X</th>\n",
       "      <td>165675</td>\n",
       "      <td>7880714</td>\n",
       "    </tr>\n",
       "    <tr>\n",
       "      <th>Gen_Z</th>\n",
       "      <td>54788</td>\n",
       "      <td>2965933</td>\n",
       "    </tr>\n",
       "    <tr>\n",
       "      <th>Millennials</th>\n",
       "      <td>148426</td>\n",
       "      <td>7826740</td>\n",
       "    </tr>\n",
       "    <tr>\n",
       "      <th>Post_War</th>\n",
       "      <td>62363</td>\n",
       "      <td>2944141</td>\n",
       "    </tr>\n",
       "  </tbody>\n",
       "</table>\n",
       "</div>"
      ],
      "text/plain": [
       "spending_flag  High Spender  Low Spender\n",
       "Generation                              \n",
       "Boomers_I             80735      4415536\n",
       "Boomers_II            97616      4785465\n",
       "Gen_X                165675      7880714\n",
       "Gen_Z                 54788      2965933\n",
       "Millennials          148426      7826740\n",
       "Post_War              62363      2944141"
      ]
     },
     "execution_count": 85,
     "metadata": {},
     "output_type": "execute_result"
    }
   ],
   "source": [
    "crosstab_generation_spending"
   ]
  },
  {
   "cell_type": "code",
   "execution_count": 86,
   "id": "d37293a4",
   "metadata": {},
   "outputs": [
    {
     "data": {
      "image/png": "[encoded data removed]",
      "text/plain": [
       "<Figure size 432x288 with 1 Axes>"
      ]
     },
     "metadata": {
      "needs_background": "light"
     },
     "output_type": "display_data"
    }
   ],
   "source": [
    "#Creating a bar chart of results sorted highest to lowest\n",
    "crosstab_generation_spending_graph = crosstab_generation_spending.plot(kind='bar', stacked=True)"
   ]
  },
  {
   "cell_type": "code",
   "execution_count": 87,
   "id": "6c20637b",
   "metadata": {},
   "outputs": [
    {
     "data": {
      "image/png": "[encoded data removed]",
      "text/plain": [
       "<Figure size 432x288 with 1 Axes>"
      ]
     },
     "metadata": {
      "needs_background": "light"
     },
     "output_type": "display_data"
    }
   ],
   "source": [
    "fam_generation_graph=crosstab_fam_generation.plot(kind='bar', stacked=True)"
   ]
  },
  {
   "cell_type": "code",
   "execution_count": 88,
   "id": "4724f275",
   "metadata": {},
   "outputs": [
    {
     "data": {
      "image/png": "[encoded data removed]",
      "text/plain": [
       "<Figure size 432x288 with 1 Axes>"
      ]
     },
     "metadata": {
      "needs_background": "light"
     },
     "output_type": "display_data"
    }
   ],
   "source": [
    "crosstab_gen_par_graph = crosstab_gen_par.plot(kind='bar', stacked=True)"
   ]
  },
  {
   "cell_type": "code",
   "execution_count": 89,
   "id": "4e1a09b0",
   "metadata": {},
   "outputs": [
    {
     "data": {
      "image/png": "[encoded data removed]",
      "text/plain": [
       "<Figure size 432x288 with 1 Axes>"
      ]
     },
     "metadata": {
      "needs_background": "light"
     },
     "output_type": "display_data"
    }
   ],
   "source": [
    "crosstab_gen_income_graph = crosstab_gen_income.plot(kind='bar', stacked=True)"
   ]
  },
  {
   "cell_type": "code",
   "execution_count": 90,
   "id": "485cfe29",
   "metadata": {},
   "outputs": [
    {
     "data": {
      "image/png": "[encoded data removed]",
      "text/plain": [
       "<Figure size 432x288 with 1 Axes>"
      ]
     },
     "metadata": {
      "needs_background": "light"
     },
     "output_type": "display_data"
    }
   ],
   "source": [
    "crosstab_income_freq_graph = crosstab_income_freq.plot(kind='bar', stacked=True)"
   ]
  },
  {
   "cell_type": "code",
   "execution_count": 91,
   "id": "7fe26bd5",
   "metadata": {},
   "outputs": [
    {
     "data": {
      "image/png": "[encoded data removed]",
      "text/plain": [
       "<Figure size 432x288 with 1 Axes>"
      ]
     },
     "metadata": {
      "needs_background": "light"
     },
     "output_type": "display_data"
    }
   ],
   "source": [
    "crosstab_income_reg_graph= crosstab_income_reg.plot(kind='bar', stacked=True)"
   ]
  },
  {
   "cell_type": "code",
   "execution_count": 98,
   "id": "f900437c",
   "metadata": {},
   "outputs": [
    {
     "data": {
      "text/plain": [
       "<AxesSubplot:xlabel='region'>"
      ]
     },
     "execution_count": 98,
     "metadata": {},
     "output_type": "execute_result"
    },
    {
     "data": {
      "image/png": "[encoded data removed]",
      "text/plain": [
       "<Figure size 432x288 with 1 Axes>"
      ]
     },
     "metadata": {
      "needs_background": "light"
     },
     "output_type": "display_data"
    }
   ],
   "source": [
    "# Price purchases by region\n",
    "crosstab_reg_pran.plot.bar(stacked = True, color = ['orange', 'blue', 'red'])"
   ]
  },
  {
   "cell_type": "code",
   "execution_count": 99,
   "id": "b9abe785",
   "metadata": {},
   "outputs": [
    {
     "data": {
      "text/plain": [
       "<AxesSubplot:>"
      ]
     },
     "execution_count": 99,
     "metadata": {},
     "output_type": "execute_result"
    },
    {
     "data": {
      "image/png": "[encoded data removed]",
      "text/plain": [
       "<Figure size 432x288 with 1 Axes>"
      ]
     },
     "metadata": {
      "needs_background": "light"
     },
     "output_type": "display_data"
    }
   ],
   "source": [
    "df_high['department_id'].value_counts().plot.bar()"
   ]
  },
  {
   "cell_type": "code",
   "execution_count": 100,
   "id": "39098e76",
   "metadata": {},
   "outputs": [
    {
     "data": {
      "text/plain": [
       "<AxesSubplot:>"
      ]
     },
     "execution_count": 100,
     "metadata": {},
     "output_type": "execute_result"
    },
    {
     "data": {
      "image/png": "[encoded data removed]",
      "text/plain": [
       "<Figure size 432x288 with 1 Axes>"
      ]
     },
     "metadata": {
      "needs_background": "light"
     },
     "output_type": "display_data"
    }
   ],
   "source": [
    "#breakdown of our customers by generation\n",
    "df_high['Generation'].value_counts().plot.bar()"
   ]
  },
  {
   "cell_type": "code",
   "execution_count": 101,
   "id": "c319868d",
   "metadata": {},
   "outputs": [
    {
     "data": {
      "text/plain": [
       "<AxesSubplot:xlabel='Generation'>"
      ]
     },
     "execution_count": 101,
     "metadata": {},
     "output_type": "execute_result"
    },
    {
     "data": {
      "image/png": "[encoded data removed]",
      "text/plain": [
       "<Figure size 432x288 with 1 Axes>"
      ]
     },
     "metadata": {
      "needs_background": "light"
     },
     "output_type": "display_data"
    }
   ],
   "source": [
    "#Graph showing corralation between generation and loyalty\n",
    "crosstab_gen_loyal.plot.bar(stacked=True)"
   ]
  },
  {
   "cell_type": "code",
   "execution_count": 102,
   "id": "06bceb4b",
   "metadata": {},
   "outputs": [
    {
     "data": {
      "text/plain": [
       "<AxesSubplot:xlabel='spending_flag'>"
      ]
     },
     "execution_count": 102,
     "metadata": {},
     "output_type": "execute_result"
    },
    {
     "data": {
      "image/png": "[encoded data removed]",
      "text/plain": [
       "<Figure size 432x288 with 1 Axes>"
      ]
     },
     "metadata": {
      "needs_background": "light"
     },
     "output_type": "display_data"
    }
   ],
   "source": [
    "crosstab_parent_price.plot.bar()"
   ]
  },
  {
   "cell_type": "code",
   "execution_count": 103,
   "id": "9fb55b0a",
   "metadata": {},
   "outputs": [
    {
     "data": {
      "text/plain": [
       "<AxesSubplot:>"
      ]
     },
     "execution_count": 103,
     "metadata": {},
     "output_type": "execute_result"
    },
    {
     "data": {
      "image/png": "[encoded data removed]",
      "text/plain": [
       "<Figure size 432x288 with 1 Axes>"
      ]
     },
     "metadata": {
      "needs_background": "light"
     },
     "output_type": "display_data"
    }
   ],
   "source": [
    "df_high['parental_status'].value_counts().plot.bar()"
   ]
  },
  {
   "cell_type": "code",
   "execution_count": 104,
   "id": "fdb47ba0",
   "metadata": {},
   "outputs": [
    {
     "data": {
      "text/plain": [
       "<AxesSubplot:>"
      ]
     },
     "execution_count": 104,
     "metadata": {},
     "output_type": "execute_result"
    },
    {
     "data": {
      "image/png": "[encoded data removed]",
      "text/plain": [
       "<Figure size 432x288 with 1 Axes>"
      ]
     },
     "metadata": {
      "needs_background": "light"
     },
     "output_type": "display_data"
    }
   ],
   "source": [
    "df_high['region'].value_counts().plot.bar(color = ['blue', 'orange', 'red', 'green'])"
   ]
  },
  {
   "cell_type": "code",
   "execution_count": 105,
   "id": "da74d06a",
   "metadata": {
    "scrolled": true
   },
   "outputs": [
    {
     "data": {
      "text/plain": [
       "<AxesSubplot:xlabel='region'>"
      ]
     },
     "execution_count": 105,
     "metadata": {},
     "output_type": "execute_result"
    },
    {
     "data": {
      "image/png": "[encoded data removed]",
      "text/plain": [
       "<Figure size 432x288 with 1 Axes>"
      ]
     },
     "metadata": {
      "needs_background": "light"
     },
     "output_type": "display_data"
    }
   ],
   "source": [
    "crosstab_reg_loyal.plot.bar()"
   ]
  },
  {
   "cell_type": "code",
   "execution_count": 116,
   "id": "d7d65c91",
   "metadata": {},
   "outputs": [
    {
     "data": {
      "text/plain": [
       "<AxesSubplot:xlabel='region'>"
      ]
     },
     "execution_count": 116,
     "metadata": {},
     "output_type": "execute_result"
    },
    {
     "data": {
      "image/png": "[encoded data removed]",
      "text/plain": [
       "<Figure size 432x288 with 1 Axes>"
      ]
     },
     "metadata": {
      "needs_background": "light"
     },
     "output_type": "display_data"
    }
   ],
   "source": [
    "crosstab_reg_pran.plot.bar(stacked = True, color = ['orange', 'blue', 'red'])"
   ]
  },
  {
   "cell_type": "markdown",
   "id": "aaf8beb3",
   "metadata": {},
   "source": [
    "## Aggregate the max, mean, and min variables on a customer-profile level"
   ]
  },
  {
   "cell_type": "code",
   "execution_count": 106,
   "id": "8b2a0dcc",
   "metadata": {},
   "outputs": [
    {
     "data": {
      "text/html": [
       "<div>\n",
       "<style scoped>\n",
       "    .dataframe tbody tr th:only-of-type {\n",
       "        vertical-align: middle;\n",
       "    }\n",
       "\n",
       "    .dataframe tbody tr th {\n",
       "        vertical-align: top;\n",
       "    }\n",
       "\n",
       "    .dataframe thead tr th {\n",
       "        text-align: left;\n",
       "    }\n",
       "\n",
       "    .dataframe thead tr:last-of-type th {\n",
       "        text-align: right;\n",
       "    }\n",
       "</style>\n",
       "<table border=\"1\" class=\"dataframe\">\n",
       "  <thead>\n",
       "    <tr>\n",
       "      <th></th>\n",
       "      <th colspan=\"3\" halign=\"left\">prices</th>\n",
       "    </tr>\n",
       "    <tr>\n",
       "      <th></th>\n",
       "      <th>mean</th>\n",
       "      <th>min</th>\n",
       "      <th>max</th>\n",
       "    </tr>\n",
       "    <tr>\n",
       "      <th>Generation</th>\n",
       "      <th></th>\n",
       "      <th></th>\n",
       "      <th></th>\n",
       "    </tr>\n",
       "  </thead>\n",
       "  <tbody>\n",
       "    <tr>\n",
       "      <th>Boomers_I</th>\n",
       "      <td>11.559053</td>\n",
       "      <td>1.0</td>\n",
       "      <td>99999.0</td>\n",
       "    </tr>\n",
       "    <tr>\n",
       "      <th>Boomers_II</th>\n",
       "      <td>12.235628</td>\n",
       "      <td>1.0</td>\n",
       "      <td>99999.0</td>\n",
       "    </tr>\n",
       "    <tr>\n",
       "      <th>Gen_X</th>\n",
       "      <td>11.768301</td>\n",
       "      <td>1.0</td>\n",
       "      <td>99999.0</td>\n",
       "    </tr>\n",
       "    <tr>\n",
       "      <th>Gen_Z</th>\n",
       "      <td>12.268696</td>\n",
       "      <td>1.0</td>\n",
       "      <td>99999.0</td>\n",
       "    </tr>\n",
       "    <tr>\n",
       "      <th>Millennials</th>\n",
       "      <td>11.939089</td>\n",
       "      <td>1.0</td>\n",
       "      <td>99999.0</td>\n",
       "    </tr>\n",
       "    <tr>\n",
       "      <th>Post_War</th>\n",
       "      <td>12.097453</td>\n",
       "      <td>1.0</td>\n",
       "      <td>99999.0</td>\n",
       "    </tr>\n",
       "  </tbody>\n",
       "</table>\n",
       "</div>"
      ],
      "text/plain": [
       "                prices              \n",
       "                  mean  min      max\n",
       "Generation                          \n",
       "Boomers_I    11.559053  1.0  99999.0\n",
       "Boomers_II   12.235628  1.0  99999.0\n",
       "Gen_X        11.768301  1.0  99999.0\n",
       "Gen_Z        12.268696  1.0  99999.0\n",
       "Millennials  11.939089  1.0  99999.0\n",
       "Post_War     12.097453  1.0  99999.0"
      ]
     },
     "execution_count": 106,
     "metadata": {},
     "output_type": "execute_result"
    }
   ],
   "source": [
    "df_high.groupby('Generation').agg({'prices': ['mean', 'min', 'max']})"
   ]
  },
  {
   "cell_type": "code",
   "execution_count": 107,
   "id": "67e9be8c",
   "metadata": {},
   "outputs": [
    {
     "data": {
      "text/html": [
       "<div>\n",
       "<style scoped>\n",
       "    .dataframe tbody tr th:only-of-type {\n",
       "        vertical-align: middle;\n",
       "    }\n",
       "\n",
       "    .dataframe tbody tr th {\n",
       "        vertical-align: top;\n",
       "    }\n",
       "\n",
       "    .dataframe thead tr th {\n",
       "        text-align: left;\n",
       "    }\n",
       "\n",
       "    .dataframe thead tr:last-of-type th {\n",
       "        text-align: right;\n",
       "    }\n",
       "</style>\n",
       "<table border=\"1\" class=\"dataframe\">\n",
       "  <thead>\n",
       "    <tr>\n",
       "      <th></th>\n",
       "      <th colspan=\"3\" halign=\"left\">prices</th>\n",
       "    </tr>\n",
       "    <tr>\n",
       "      <th></th>\n",
       "      <th>mean</th>\n",
       "      <th>min</th>\n",
       "      <th>max</th>\n",
       "    </tr>\n",
       "    <tr>\n",
       "      <th>income_range</th>\n",
       "      <th></th>\n",
       "      <th></th>\n",
       "      <th></th>\n",
       "    </tr>\n",
       "  </thead>\n",
       "  <tbody>\n",
       "    <tr>\n",
       "      <th>0 - 100k</th>\n",
       "      <td>8.094034</td>\n",
       "      <td>1.0</td>\n",
       "      <td>99999.0</td>\n",
       "    </tr>\n",
       "    <tr>\n",
       "      <th>100-200k</th>\n",
       "      <td>12.171918</td>\n",
       "      <td>1.0</td>\n",
       "      <td>99999.0</td>\n",
       "    </tr>\n",
       "    <tr>\n",
       "      <th>200-300k</th>\n",
       "      <td>253.362402</td>\n",
       "      <td>1.0</td>\n",
       "      <td>99999.0</td>\n",
       "    </tr>\n",
       "    <tr>\n",
       "      <th>300-400k</th>\n",
       "      <td>306.861549</td>\n",
       "      <td>1.0</td>\n",
       "      <td>99999.0</td>\n",
       "    </tr>\n",
       "    <tr>\n",
       "      <th>400-500k</th>\n",
       "      <td>260.991160</td>\n",
       "      <td>1.0</td>\n",
       "      <td>99999.0</td>\n",
       "    </tr>\n",
       "    <tr>\n",
       "      <th>Over 500k</th>\n",
       "      <td>170.125361</td>\n",
       "      <td>1.0</td>\n",
       "      <td>99999.0</td>\n",
       "    </tr>\n",
       "  </tbody>\n",
       "</table>\n",
       "</div>"
      ],
      "text/plain": [
       "                  prices              \n",
       "                    mean  min      max\n",
       "income_range                          \n",
       "0 - 100k        8.094034  1.0  99999.0\n",
       "100-200k       12.171918  1.0  99999.0\n",
       "200-300k      253.362402  1.0  99999.0\n",
       "300-400k      306.861549  1.0  99999.0\n",
       "400-500k      260.991160  1.0  99999.0\n",
       "Over 500k     170.125361  1.0  99999.0"
      ]
     },
     "execution_count": 107,
     "metadata": {},
     "output_type": "execute_result"
    }
   ],
   "source": [
    "df_high.groupby('income_range').agg({'prices': ['mean', 'min', 'max']})"
   ]
  },
  {
   "cell_type": "code",
   "execution_count": 108,
   "id": "986746c1",
   "metadata": {},
   "outputs": [
    {
     "data": {
      "text/html": [
       "<div>\n",
       "<style scoped>\n",
       "    .dataframe tbody tr th:only-of-type {\n",
       "        vertical-align: middle;\n",
       "    }\n",
       "\n",
       "    .dataframe tbody tr th {\n",
       "        vertical-align: top;\n",
       "    }\n",
       "\n",
       "    .dataframe thead tr th {\n",
       "        text-align: left;\n",
       "    }\n",
       "\n",
       "    .dataframe thead tr:last-of-type th {\n",
       "        text-align: right;\n",
       "    }\n",
       "</style>\n",
       "<table border=\"1\" class=\"dataframe\">\n",
       "  <thead>\n",
       "    <tr>\n",
       "      <th></th>\n",
       "      <th colspan=\"3\" halign=\"left\">prices</th>\n",
       "    </tr>\n",
       "    <tr>\n",
       "      <th></th>\n",
       "      <th>mean</th>\n",
       "      <th>min</th>\n",
       "      <th>max</th>\n",
       "    </tr>\n",
       "    <tr>\n",
       "      <th>parental_status</th>\n",
       "      <th></th>\n",
       "      <th></th>\n",
       "      <th></th>\n",
       "    </tr>\n",
       "  </thead>\n",
       "  <tbody>\n",
       "    <tr>\n",
       "      <th>Not Parent</th>\n",
       "      <td>12.089298</td>\n",
       "      <td>1.0</td>\n",
       "      <td>99999.0</td>\n",
       "    </tr>\n",
       "    <tr>\n",
       "      <th>Parent</th>\n",
       "      <td>11.917431</td>\n",
       "      <td>1.0</td>\n",
       "      <td>99999.0</td>\n",
       "    </tr>\n",
       "  </tbody>\n",
       "</table>\n",
       "</div>"
      ],
      "text/plain": [
       "                    prices              \n",
       "                      mean  min      max\n",
       "parental_status                         \n",
       "Not Parent       12.089298  1.0  99999.0\n",
       "Parent           11.917431  1.0  99999.0"
      ]
     },
     "execution_count": 108,
     "metadata": {},
     "output_type": "execute_result"
    }
   ],
   "source": [
    "df_high.groupby('parental_status').agg({'prices': ['mean', 'min', 'max']})"
   ]
  },
  {
   "cell_type": "code",
   "execution_count": 109,
   "id": "fb442389",
   "metadata": {},
   "outputs": [
    {
     "data": {
      "text/html": [
       "<div>\n",
       "<style scoped>\n",
       "    .dataframe tbody tr th:only-of-type {\n",
       "        vertical-align: middle;\n",
       "    }\n",
       "\n",
       "    .dataframe tbody tr th {\n",
       "        vertical-align: top;\n",
       "    }\n",
       "\n",
       "    .dataframe thead tr th {\n",
       "        text-align: left;\n",
       "    }\n",
       "\n",
       "    .dataframe thead tr:last-of-type th {\n",
       "        text-align: right;\n",
       "    }\n",
       "</style>\n",
       "<table border=\"1\" class=\"dataframe\">\n",
       "  <thead>\n",
       "    <tr>\n",
       "      <th></th>\n",
       "      <th colspan=\"3\" halign=\"left\">prices</th>\n",
       "    </tr>\n",
       "    <tr>\n",
       "      <th></th>\n",
       "      <th>mean</th>\n",
       "      <th>min</th>\n",
       "      <th>max</th>\n",
       "    </tr>\n",
       "    <tr>\n",
       "      <th>region</th>\n",
       "      <th></th>\n",
       "      <th></th>\n",
       "      <th></th>\n",
       "    </tr>\n",
       "  </thead>\n",
       "  <tbody>\n",
       "    <tr>\n",
       "      <th>Midwest</th>\n",
       "      <td>12.773941</td>\n",
       "      <td>1.0</td>\n",
       "      <td>99999.0</td>\n",
       "    </tr>\n",
       "    <tr>\n",
       "      <th>Northeast</th>\n",
       "      <td>11.530525</td>\n",
       "      <td>1.0</td>\n",
       "      <td>99999.0</td>\n",
       "    </tr>\n",
       "    <tr>\n",
       "      <th>South</th>\n",
       "      <td>12.091604</td>\n",
       "      <td>1.0</td>\n",
       "      <td>99999.0</td>\n",
       "    </tr>\n",
       "    <tr>\n",
       "      <th>West</th>\n",
       "      <td>11.394373</td>\n",
       "      <td>1.0</td>\n",
       "      <td>99999.0</td>\n",
       "    </tr>\n",
       "  </tbody>\n",
       "</table>\n",
       "</div>"
      ],
      "text/plain": [
       "              prices              \n",
       "                mean  min      max\n",
       "region                            \n",
       "Midwest    12.773941  1.0  99999.0\n",
       "Northeast  11.530525  1.0  99999.0\n",
       "South      12.091604  1.0  99999.0\n",
       "West       11.394373  1.0  99999.0"
      ]
     },
     "execution_count": 109,
     "metadata": {},
     "output_type": "execute_result"
    }
   ],
   "source": [
    "df_high.groupby('region').agg({'prices': ['mean', 'min', 'max']})"
   ]
  },
  {
   "cell_type": "markdown",
   "id": "2139c03b",
   "metadata": {},
   "source": [
    "## Compare your customer profiles with regions and departments."
   ]
  },
  {
   "cell_type": "markdown",
   "id": "16f5778a",
   "metadata": {},
   "source": [
    "Graphs and comparisons found in Excel file."
   ]
  },
  {
   "cell_type": "markdown",
   "id": "2ccf3330",
   "metadata": {},
   "source": [
    "## Produce suitable charts to illustrate your results"
   ]
  },
  {
   "cell_type": "markdown",
   "id": "81f61ef7",
   "metadata": {},
   "source": [
    "Graphs and comparisons found in Excel file."
   ]
  },
  {
   "cell_type": "markdown",
   "id": "4617593a",
   "metadata": {},
   "source": [
    "## Export Final Data"
   ]
  },
  {
   "cell_type": "code",
   "execution_count": 110,
   "id": "19ba0645",
   "metadata": {},
   "outputs": [],
   "source": [
    "df_high.to_pickle(os.path.join(path, '02 Data', 'Prepared Data', 'ords_prods_cust_final.pkl'))"
   ]
  },
  {
   "cell_type": "code",
   "execution_count": null,
   "id": "3e612fb8",
   "metadata": {},
   "outputs": [],
   "source": []
  }
 ],
 "metadata": {
  "kernelspec": {
   "display_name": "Python 3",
   "language": "python",
   "name": "python3"
  },
  "language_info": {
   "codemirror_mode": {
    "name": "ipython",
    "version": 3
   },
   "file_extension": ".py",
   "mimetype": "text/x-python",
   "name": "python",
   "nbconvert_exporter": "python",
   "pygments_lexer": "ipython3",
   "version": "3.8.8"
  }
 },
 "nbformat": 4,
 "nbformat_minor": 5
}
