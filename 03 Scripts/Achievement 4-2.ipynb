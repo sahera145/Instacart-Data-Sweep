{
 "cells": [
  {
   "cell_type": "markdown",
   "id": "a649716b",
   "metadata": {},
   "source": [
    "Importing Libraries"
   ]
  },
  {
   "cell_type": "code",
   "execution_count": 1,
   "id": "e2c5aa80",
   "metadata": {},
   "outputs": [],
   "source": [
    "#Import Libraries\n",
    "import pandas as pd\n",
    "import numpy as np\n",
    "import os"
   ]
  },
  {
   "cell_type": "markdown",
   "id": "ba4ccc2e",
   "metadata": {},
   "source": [
    "Working with Data Types"
   ]
  },
  {
   "cell_type": "code",
   "execution_count": 2,
   "id": "b7eb1b41",
   "metadata": {},
   "outputs": [],
   "source": [
    "# 3 different ways to get 100\n",
    "x=99"
   ]
  },
  {
   "cell_type": "code",
   "execution_count": 3,
   "id": "9bb5de31",
   "metadata": {},
   "outputs": [],
   "source": [
    "y=1"
   ]
  },
  {
   "cell_type": "code",
   "execution_count": 4,
   "id": "4f00f3d2",
   "metadata": {},
   "outputs": [
    {
     "name": "stdout",
     "output_type": "stream",
     "text": [
      "100\n"
     ]
    }
   ],
   "source": [
    "print(x+y)"
   ]
  },
  {
   "cell_type": "code",
   "execution_count": 5,
   "id": "eba09976",
   "metadata": {},
   "outputs": [],
   "source": [
    "x=10"
   ]
  },
  {
   "cell_type": "code",
   "execution_count": 6,
   "id": "6c3b016d",
   "metadata": {},
   "outputs": [],
   "source": [
    "y=10"
   ]
  },
  {
   "cell_type": "code",
   "execution_count": 7,
   "id": "2df39142",
   "metadata": {},
   "outputs": [
    {
     "name": "stdout",
     "output_type": "stream",
     "text": [
      "100\n"
     ]
    }
   ],
   "source": [
    "print(x*y)"
   ]
  },
  {
   "cell_type": "code",
   "execution_count": 8,
   "id": "3f415b8a",
   "metadata": {},
   "outputs": [],
   "source": [
    "x=101"
   ]
  },
  {
   "cell_type": "code",
   "execution_count": 9,
   "id": "ed22ef21",
   "metadata": {},
   "outputs": [],
   "source": [
    "y=1"
   ]
  },
  {
   "cell_type": "code",
   "execution_count": 10,
   "id": "a079bc8d",
   "metadata": {},
   "outputs": [],
   "source": [
    "z=x-y"
   ]
  },
  {
   "cell_type": "code",
   "execution_count": 11,
   "id": "899cc7ed",
   "metadata": {},
   "outputs": [
    {
     "name": "stdout",
     "output_type": "stream",
     "text": [
      "100\n"
     ]
    }
   ],
   "source": [
    "print(z)"
   ]
  },
  {
   "cell_type": "code",
   "execution_count": 12,
   "id": "aa9bc341",
   "metadata": {},
   "outputs": [],
   "source": [
    "#2 floating point numbers divided by each other\n",
    "x=5.568"
   ]
  },
  {
   "cell_type": "code",
   "execution_count": 13,
   "id": "c7c09682",
   "metadata": {},
   "outputs": [],
   "source": [
    "y=9.876"
   ]
  },
  {
   "cell_type": "code",
   "execution_count": 14,
   "id": "7bf41529",
   "metadata": {},
   "outputs": [],
   "source": [
    "z=x/y"
   ]
  },
  {
   "cell_type": "code",
   "execution_count": 15,
   "id": "1b7e63f7",
   "metadata": {},
   "outputs": [
    {
     "name": "stdout",
     "output_type": "stream",
     "text": [
      "10.226812474686108\n"
     ]
    }
   ],
   "source": [
    "print(z)"
   ]
  },
  {
   "cell_type": "code",
   "execution_count": 27,
   "id": "12f480c6",
   "metadata": {},
   "outputs": [],
   "source": [
    "#Construct a word"
   ]
  },
  {
   "cell_type": "code",
   "execution_count": 28,
   "id": "b879e704",
   "metadata": {},
   "outputs": [],
   "source": [
    "a='Chip'\n",
    "b='munk'"
   ]
  },
  {
   "cell_type": "code",
   "execution_count": 29,
   "id": "b6cb95b2",
   "metadata": {},
   "outputs": [
    {
     "data": {
      "text/plain": [
       "'Chipmunk'"
      ]
     },
     "execution_count": 29,
     "metadata": {},
     "output_type": "execute_result"
    }
   ],
   "source": [
    "a+b"
   ]
  },
  {
   "cell_type": "code",
   "execution_count": 30,
   "id": "2376aaf3",
   "metadata": {},
   "outputs": [],
   "source": [
    "#Construct two short sentences"
   ]
  },
  {
   "cell_type": "code",
   "execution_count": 36,
   "id": "e3b7f014",
   "metadata": {},
   "outputs": [],
   "source": [
    "a='Mary had a '\n",
    "b='little lamb.'\n",
    "c=' It was a '\n",
    "d='little black lamb.'"
   ]
  },
  {
   "cell_type": "code",
   "execution_count": 37,
   "id": "d94e55bc",
   "metadata": {},
   "outputs": [
    {
     "data": {
      "text/plain": [
       "'Mary had a little lamb. It was a little black lamb.'"
      ]
     },
     "execution_count": 37,
     "metadata": {},
     "output_type": "execute_result"
    }
   ],
   "source": [
    "a+b+c+d"
   ]
  }
 ],
 "metadata": {
  "kernelspec": {
   "display_name": "Python 3",
   "language": "python",
   "name": "python3"
  },
  "language_info": {
   "codemirror_mode": {
    "name": "ipython",
    "version": 3
   },
   "file_extension": ".py",
   "mimetype": "text/x-python",
   "name": "python",
   "nbconvert_exporter": "python",
   "pygments_lexer": "ipython3",
   "version": "3.8.8"
  }
 },
 "nbformat": 4,
 "nbformat_minor": 5
}
